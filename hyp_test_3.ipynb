{
 "cells": [
  {
   "cell_type": "markdown",
   "metadata": {},
   "source": [
    "# Hypothesis Test 3"
   ]
  },
  {
   "cell_type": "markdown",
   "metadata": {},
   "source": [
    "## Data Collection"
   ]
  },
  {
   "cell_type": "code",
   "execution_count": 2,
   "metadata": {},
   "outputs": [],
   "source": [
    "import psycopg2\n",
    "import pandas as pd\n",
    "import numpy as np\n",
    "import seaborn as sns\n",
    "import scipy\n",
    "import matplotlib.pyplot as plt\n",
    "from scipy import stats\n"
   ]
  },
  {
   "cell_type": "markdown",
   "metadata": {},
   "source": [
    "In the cells below, we are creating a connection to our PSQL databased named 'soccer'. This allows us to select data from certain tables in PSQL and turn them into dataframes that we can later join or merge in order to explore our data. "
   ]
  },
  {
   "cell_type": "code",
   "execution_count": 3,
   "metadata": {},
   "outputs": [],
   "source": [
    "conn = psycopg2.connect('dbname=soccer')\n",
    "cur = conn.cursor()\n",
    "query = '''\n",
    "SELECT *\n",
    "FROM Country\n",
    ";'''\n",
    "cur.execute(query)"
   ]
  },
  {
   "cell_type": "code",
   "execution_count": 4,
   "metadata": {},
   "outputs": [
    {
     "data": {
      "text/html": [
       "<div>\n",
       "<style scoped>\n",
       "    .dataframe tbody tr th:only-of-type {\n",
       "        vertical-align: middle;\n",
       "    }\n",
       "\n",
       "    .dataframe tbody tr th {\n",
       "        vertical-align: top;\n",
       "    }\n",
       "\n",
       "    .dataframe thead th {\n",
       "        text-align: right;\n",
       "    }\n",
       "</style>\n",
       "<table border=\"1\" class=\"dataframe\">\n",
       "  <thead>\n",
       "    <tr style=\"text-align: right;\">\n",
       "      <th></th>\n",
       "      <th>id</th>\n",
       "      <th>name</th>\n",
       "    </tr>\n",
       "  </thead>\n",
       "  <tbody>\n",
       "    <tr>\n",
       "      <th>0</th>\n",
       "      <td>1</td>\n",
       "      <td>Belgium</td>\n",
       "    </tr>\n",
       "    <tr>\n",
       "      <th>1</th>\n",
       "      <td>1729</td>\n",
       "      <td>England</td>\n",
       "    </tr>\n",
       "    <tr>\n",
       "      <th>2</th>\n",
       "      <td>4769</td>\n",
       "      <td>France</td>\n",
       "    </tr>\n",
       "    <tr>\n",
       "      <th>3</th>\n",
       "      <td>7809</td>\n",
       "      <td>Germany</td>\n",
       "    </tr>\n",
       "    <tr>\n",
       "      <th>4</th>\n",
       "      <td>10257</td>\n",
       "      <td>Italy</td>\n",
       "    </tr>\n",
       "  </tbody>\n",
       "</table>\n",
       "</div>"
      ],
      "text/plain": [
       "      id     name\n",
       "0      1  Belgium\n",
       "1   1729  England\n",
       "2   4769   France\n",
       "3   7809  Germany\n",
       "4  10257    Italy"
      ]
     },
     "execution_count": 4,
     "metadata": {},
     "output_type": "execute_result"
    }
   ],
   "source": [
    "countries_data = cur.fetchall()\n",
    "countries_df = pd.DataFrame(countries_data)\n",
    "countries_df.columns = [i[0] for i in cur.description]\n",
    "countries_df.head()"
   ]
  },
  {
   "cell_type": "code",
   "execution_count": 5,
   "metadata": {},
   "outputs": [
    {
     "data": {
      "text/html": [
       "<div>\n",
       "<style scoped>\n",
       "    .dataframe tbody tr th:only-of-type {\n",
       "        vertical-align: middle;\n",
       "    }\n",
       "\n",
       "    .dataframe tbody tr th {\n",
       "        vertical-align: top;\n",
       "    }\n",
       "\n",
       "    .dataframe thead th {\n",
       "        text-align: right;\n",
       "    }\n",
       "</style>\n",
       "<table border=\"1\" class=\"dataframe\">\n",
       "  <thead>\n",
       "    <tr style=\"text-align: right;\">\n",
       "      <th></th>\n",
       "      <th>id</th>\n",
       "      <th>country_id</th>\n",
       "      <th>name</th>\n",
       "    </tr>\n",
       "  </thead>\n",
       "  <tbody>\n",
       "    <tr>\n",
       "      <th>0</th>\n",
       "      <td>1</td>\n",
       "      <td>1</td>\n",
       "      <td>Belgium Jupiler League</td>\n",
       "    </tr>\n",
       "    <tr>\n",
       "      <th>1</th>\n",
       "      <td>1729</td>\n",
       "      <td>1729</td>\n",
       "      <td>England Premier League</td>\n",
       "    </tr>\n",
       "    <tr>\n",
       "      <th>2</th>\n",
       "      <td>4769</td>\n",
       "      <td>4769</td>\n",
       "      <td>France Ligue 1</td>\n",
       "    </tr>\n",
       "    <tr>\n",
       "      <th>3</th>\n",
       "      <td>7809</td>\n",
       "      <td>7809</td>\n",
       "      <td>Germany 1. Bundesliga</td>\n",
       "    </tr>\n",
       "    <tr>\n",
       "      <th>4</th>\n",
       "      <td>10257</td>\n",
       "      <td>10257</td>\n",
       "      <td>Italy Serie A</td>\n",
       "    </tr>\n",
       "  </tbody>\n",
       "</table>\n",
       "</div>"
      ],
      "text/plain": [
       "      id  country_id                    name\n",
       "0      1           1  Belgium Jupiler League\n",
       "1   1729        1729  England Premier League\n",
       "2   4769        4769          France Ligue 1\n",
       "3   7809        7809   Germany 1. Bundesliga\n",
       "4  10257       10257           Italy Serie A"
      ]
     },
     "execution_count": 5,
     "metadata": {},
     "output_type": "execute_result"
    }
   ],
   "source": [
    "conn = psycopg2.connect('dbname=soccer')\n",
    "cur = conn.cursor()\n",
    "query = '''\n",
    "SELECT *\n",
    "FROM League\n",
    ";'''\n",
    "cur.execute(query)\n",
    "league_data = cur.fetchall()\n",
    "league_df = pd.DataFrame(league_data)\n",
    "league_df.columns = [i[0] for i in cur.description]\n",
    "league_df.head()"
   ]
  },
  {
   "cell_type": "code",
   "execution_count": 6,
   "metadata": {},
   "outputs": [],
   "source": [
    "conn = psycopg2.connect('dbname=soccer')\n",
    "cur = conn.cursor()\n",
    "\n",
    "query = '''\n",
    "SELECT *\n",
    "FROM Match\n",
    ";'''\n",
    "\n",
    "cur.execute(query)\n",
    "\n",
    "match_data = cur.fetchall()\n",
    "match_df = pd.DataFrame(match_data)\n",
    "match_df.columns = [i[0] for i in cur.description]"
   ]
  },
  {
   "cell_type": "code",
   "execution_count": 7,
   "metadata": {},
   "outputs": [],
   "source": [
    "conn = psycopg2.connect('dbname=soccer')\n",
    "cur = conn.cursor()\n",
    "\n",
    "query = '''\n",
    "SELECT *\n",
    "FROM Player_Attributes\n",
    ";'''\n",
    "\n",
    "cur.execute(query)\n",
    "\n",
    "player_attrib_data = cur.fetchall()\n",
    "player_attrib_df = pd.DataFrame(player_attrib_data)\n",
    "player_attrib_df.columns = [i[0] for i in cur.description]\n"
   ]
  },
  {
   "cell_type": "code",
   "execution_count": 8,
   "metadata": {},
   "outputs": [],
   "source": [
    "conn = psycopg2.connect('dbname=soccer')\n",
    "cur = conn.cursor()\n",
    "\n",
    "query = '''\n",
    "SELECT *\n",
    "FROM Team\n",
    ";'''\n",
    "\n",
    "cur.execute(query)\n",
    "\n",
    "team_data = cur.fetchall()\n",
    "team_df = pd.DataFrame(team_data)\n",
    "team_df.columns = [i[0] for i in cur.description]\n"
   ]
  },
  {
   "cell_type": "code",
   "execution_count": 9,
   "metadata": {},
   "outputs": [],
   "source": [
    "conn = psycopg2.connect('dbname=soccer')\n",
    "cur = conn.cursor()\n",
    "\n",
    "query = '''\n",
    "SELECT *\n",
    "FROM Team_Attributes\n",
    ";'''\n",
    "\n",
    "cur.execute(query)\n",
    "\n",
    "team_attrib_data = cur.fetchall()\n",
    "team_attrib_df = pd.DataFrame(team_attrib_data)\n",
    "team_attrib_df.columns = [i[0] for i in cur.description]\n"
   ]
  },
  {
   "cell_type": "code",
   "execution_count": 10,
   "metadata": {},
   "outputs": [],
   "source": [
    "player_df = pd.read_csv('player.csv')\n"
   ]
  },
  {
   "cell_type": "markdown",
   "metadata": {},
   "source": [
    " # HYPOTHESIS TEST 3\n"
   ]
  },
  {
   "cell_type": "markdown",
   "metadata": {},
   "source": [
    "- There is no statisical difference in the defensive agressiveness between English and Spanish Teams\n",
    " \n",
    "- HA: There is a difference in the defensive aggresiveness between English and Spanish Teams."
   ]
  },
  {
   "cell_type": "markdown",
   "metadata": {},
   "source": [
    "### Merging "
   ]
  },
  {
   "cell_type": "code",
   "execution_count": 11,
   "metadata": {},
   "outputs": [],
   "source": [
    "match_league_df = match_df.merge(league_df, left_on='league_id', right_on='id')"
   ]
  },
  {
   "cell_type": "code",
   "execution_count": 12,
   "metadata": {},
   "outputs": [
    {
     "data": {
      "text/plain": [
       "France Ligue 1              3040\n",
       "England Premier League      3040\n",
       "Spain LIGA BBVA             3040\n",
       "Italy Serie A               3017\n",
       "Germany 1. Bundesliga       2448\n",
       "Netherlands Eredivisie      2448\n",
       "Portugal Liga ZON Sagres    2052\n",
       "Poland Ekstraklasa          1920\n",
       "Scotland Premier League     1824\n",
       "Belgium Jupiler League      1728\n",
       "Switzerland Super League    1422\n",
       "Name: name, dtype: int64"
      ]
     },
     "execution_count": 12,
     "metadata": {},
     "output_type": "execute_result"
    }
   ],
   "source": [
    "match_league_df['name'].value_counts()\n"
   ]
  },
  {
   "cell_type": "code",
   "execution_count": 13,
   "metadata": {},
   "outputs": [],
   "source": [
    "team_attrib_by_league=team_attrib_df.join(match_league_df['name'], on='team_api_id', how='left')"
   ]
  },
  {
   "cell_type": "code",
   "execution_count": 14,
   "metadata": {},
   "outputs": [
    {
     "data": {
      "text/plain": [
       "England Premier League      739\n",
       "France Ligue 1              665\n",
       "Poland Ekstraklasa           29\n",
       "Portugal Liga ZON Sagres      8\n",
       "Belgium Jupiler League        6\n",
       "Name: name, dtype: int64"
      ]
     },
     "execution_count": 14,
     "metadata": {},
     "output_type": "execute_result"
    }
   ],
   "source": [
    "defense = team_attrib_by_league[['defenceaggression', 'team_api_id', 'name']]\n",
    "defense['name'].value_counts()"
   ]
  },
  {
   "cell_type": "markdown",
   "metadata": {},
   "source": [
    "### We need to slice our dataframes in order to only have information about certain leagues:"
   ]
  },
  {
   "cell_type": "code",
   "execution_count": 15,
   "metadata": {},
   "outputs": [],
   "source": [
    "#swiss_d = defense.loc[defense['defenseaggression'], 'name' == 'Switzerland Super League']\n",
    "english_d = defense[defense['name'].str.contains(\"England\")==True]\n",
    "french_d = defense[defense['name'].str.contains(\"France\")==True]\n"
   ]
  },
  {
   "cell_type": "markdown",
   "metadata": {},
   "source": [
    "#### Create Numpy Arrays of Match/Defense Aggressiveness Data"
   ]
  },
  {
   "cell_type": "code",
   "execution_count": 16,
   "metadata": {},
   "outputs": [
    {
     "data": {
      "text/plain": [
       "739"
      ]
     },
     "execution_count": 16,
     "metadata": {},
     "output_type": "execute_result"
    }
   ],
   "source": [
    "english_array_df = english_d['defenceaggression']\n",
    "english_array = np.array(english_array_df)\n",
    "len(english_array)"
   ]
  },
  {
   "cell_type": "code",
   "execution_count": 17,
   "metadata": {},
   "outputs": [
    {
     "data": {
      "text/plain": [
       "665"
      ]
     },
     "execution_count": 17,
     "metadata": {},
     "output_type": "execute_result"
    }
   ],
   "source": [
    "french_array_df = french_d['defenceaggression']\n",
    "french_array = np.array(french_array_df)\n",
    "len(french_array)"
   ]
  },
  {
   "cell_type": "markdown",
   "metadata": {},
   "source": [
    "## Two Sample Test Functions"
   ]
  },
  {
   "cell_type": "code",
   "execution_count": 18,
   "metadata": {},
   "outputs": [],
   "source": [
    "def variance(sample):\n",
    "    sample_mean = np.mean(sample)\n",
    "    return sum([(i - sample_mean)**2 for i in sample])\n",
    "\n",
    "def sample_variance(sample1, sample2):\n",
    "    n_1, n_2 = len(sample1), len(sample2)\n",
    "    var1, var2 = variance(sample1), variance(sample2)\n",
    "    return (var1 + var2) / ((n_1 + n_2) - 2)\n",
    "\n",
    "def twosample_tstatistic(expr, ctrl):\n",
    "    expr_mean, ctrl_mean = np.mean(expr), np.mean(ctrl)\n",
    "    n_e, n_c = len(expr), len(ctrl)\n",
    "    samp_var = sample_variance(expr,ctrl)\n",
    "    t = (expr_mean - ctrl_mean) / np.sqrt(samp_var * ((1/n_e)+(1/n_c)))\n",
    "    return t\n"
   ]
  },
  {
   "cell_type": "markdown",
   "metadata": {},
   "source": [
    "## England Vs French Defensive Aggressiveness"
   ]
  },
  {
   "cell_type": "code",
   "execution_count": 19,
   "metadata": {},
   "outputs": [
    {
     "name": "stderr",
     "output_type": "stream",
     "text": [
      "/Applications/anaconda3/envs/learn-env/lib/python3.6/site-packages/scipy/stats/stats.py:1713: FutureWarning: Using a non-tuple sequence for multidimensional indexing is deprecated; use `arr[tuple(seq)]` instead of `arr[seq]`. In the future this will be interpreted as an array index, `arr[np.array(seq)]`, which will result either in an error or a different result.\n",
      "  return np.add.reduce(sorted[indexer] * weights, axis=axis) / sumval\n"
     ]
    },
    {
     "data": {
      "text/plain": [
       "<matplotlib.axes._subplots.AxesSubplot at 0x1a1efd57b8>"
      ]
     },
     "execution_count": 19,
     "metadata": {},
     "output_type": "execute_result"
    },
    {
     "data": {
      "image/png": "[encoded data removed]",
      "text/plain": [
       "<Figure size 864x720 with 1 Axes>"
      ]
     },
     "metadata": {},
     "output_type": "display_data"
    }
   ],
   "source": [
    "sns.set(color_codes=True)\n",
    "sns.set(rc={'figure.figsize':(12,10)})\n",
    "sns.distplot(english_array) # Blue distribution\n",
    "sns.distplot(french_array) # Green distribution"
   ]
  },
  {
   "cell_type": "code",
   "execution_count": 20,
   "metadata": {},
   "outputs": [
    {
     "data": {
      "text/plain": [
       "50"
      ]
     },
     "execution_count": 20,
     "metadata": {},
     "output_type": "execute_result"
    }
   ],
   "source": [
    "sample_means_english = []\n",
    "for _ in range(50):\n",
    "    sample_mean = np.random.choice(english_array,size=50).mean()\n",
    "    sample_means_english.append(sample_mean)\n",
    "len(sample_means_english)\n",
    "\n",
    "sample_means_french = []\n",
    "for _ in range(50):\n",
    "    sample_mean = np.random.choice(french_array,size=50).mean()\n",
    "    sample_means_french.append(sample_mean)\n",
    "len(sample_means_french)"
   ]
  },
  {
   "cell_type": "code",
   "execution_count": 21,
   "metadata": {
    "scrolled": true
   },
   "outputs": [
    {
     "data": {
      "text/plain": [
       "[47.02,\n",
       " 48.18,\n",
       " 51.5,\n",
       " 51.42,\n",
       " 48.02,\n",
       " 48.76,\n",
       " 51.1,\n",
       " 48.64,\n",
       " 49.82,\n",
       " 48.84,\n",
       " 51.68,\n",
       " 49.5,\n",
       " 46.12,\n",
       " 50.36,\n",
       " 48.46,\n",
       " 48.64,\n",
       " 49.78,\n",
       " 47.92,\n",
       " 48.58,\n",
       " 51.02,\n",
       " 49.68,\n",
       " 48.78,\n",
       " 45.6,\n",
       " 48.38,\n",
       " 49.28,\n",
       " 49.94,\n",
       " 49.26,\n",
       " 49.54,\n",
       " 48.98,\n",
       " 47.62,\n",
       " 49.78,\n",
       " 48.98,\n",
       " 49.92,\n",
       " 49.74,\n",
       " 49.62,\n",
       " 50.32,\n",
       " 50.18,\n",
       " 48.4,\n",
       " 47.76,\n",
       " 46.82,\n",
       " 51.52,\n",
       " 49.68,\n",
       " 47.88,\n",
       " 51.74,\n",
       " 49.64,\n",
       " 46.3,\n",
       " 49.2,\n",
       " 49.02,\n",
       " 50.2,\n",
       " 47.72]"
      ]
     },
     "execution_count": 21,
     "metadata": {},
     "output_type": "execute_result"
    }
   ],
   "source": [
    "sample_means_english\n",
    "sample_means_french"
   ]
  },
  {
   "cell_type": "code",
   "execution_count": 22,
   "metadata": {},
   "outputs": [
    {
     "data": {
      "text/plain": [
       "2.4720768673827362"
      ]
     },
     "execution_count": 22,
     "metadata": {},
     "output_type": "execute_result"
    }
   ],
   "source": [
    "t_stat = twosample_tstatistic(sample_means_english, sample_means_french)\n",
    "\n",
    "t_stat"
   ]
  },
  {
   "cell_type": "code",
   "execution_count": 23,
   "metadata": {},
   "outputs": [
    {
     "data": {
      "image/png": "[encoded data removed]",
      "text/plain": [
       "<Figure size 576x360 with 1 Axes>"
      ]
     },
     "metadata": {},
     "output_type": "display_data"
    }
   ],
   "source": [
    "def visualize_t(t_stat, n_control, n_experimental):\n",
    "\n",
    "    # initialize a matplotlib \"figure\"\n",
    "    fig = plt.figure(figsize=(8,5))\n",
    "    ax = fig.gca()\n",
    "    # generate points on the x axis between -4 and 4:\n",
    "    xs = np.linspace(-4, 4, 500)\n",
    "\n",
    "    # use stats.t.pdf to get values on the probability density function for the t-distribution\n",
    "    \n",
    "    ys= stats.t.pdf(xs, (n_control+n_experimental-2), 0, 1)\n",
    "    ax.plot(xs, ys, linewidth=3, color='darkred')\n",
    "\n",
    "    ax.axvline(t_stat, color='black', linestyle='--', lw=5)\n",
    "    ax.axvline(-t_stat, color='black', linestyle='--', lw=5)\n",
    "\n",
    "    plt.show()\n",
    "    return None\n",
    "\n",
    "n_control = len(sample_means_english)\n",
    "n_experimental = len(sample_means_french)\n",
    "visualize_t(t_stat, n_control, n_experimental)"
   ]
  },
  {
   "cell_type": "code",
   "execution_count": 24,
   "metadata": {},
   "outputs": [
    {
     "data": {
      "text/plain": [
       "Ttest_indResult(statistic=2.4720768673827362, pvalue=0.015156589077219057)"
      ]
     },
     "execution_count": 24,
     "metadata": {},
     "output_type": "execute_result"
    }
   ],
   "source": [
    "stats.ttest_ind(sample_means_english, sample_means_french)"
   ]
  },
  {
   "cell_type": "markdown",
   "metadata": {},
   "source": [
    "## Conclusion"
   ]
  },
  {
   "cell_type": "markdown",
   "metadata": {},
   "source": [
    "There is no statistical significant difference in the defensive agressiveness between teams in the English and French soccer leagues, therefore we fail to reject the null hypothesis. "
   ]
  },
  {
   "cell_type": "markdown",
   "metadata": {},
   "source": [
    "# Hypothesis 4\n",
    "## English vs France Cross Creation"
   ]
  },
  {
   "cell_type": "code",
   "execution_count": 25,
   "metadata": {},
   "outputs": [
    {
     "data": {
      "text/html": [
       "<div>\n",
       "<style scoped>\n",
       "    .dataframe tbody tr th:only-of-type {\n",
       "        vertical-align: middle;\n",
       "    }\n",
       "\n",
       "    .dataframe tbody tr th {\n",
       "        vertical-align: top;\n",
       "    }\n",
       "\n",
       "    .dataframe thead th {\n",
       "        text-align: right;\n",
       "    }\n",
       "</style>\n",
       "<table border=\"1\" class=\"dataframe\">\n",
       "  <thead>\n",
       "    <tr style=\"text-align: right;\">\n",
       "      <th></th>\n",
       "      <th>id</th>\n",
       "      <th>team_fifa_api_id</th>\n",
       "      <th>team_api_id</th>\n",
       "      <th>buildupplayspeed</th>\n",
       "      <th>buildupplaydribbling</th>\n",
       "      <th>buildupplaypassing</th>\n",
       "      <th>chancecreationpassing</th>\n",
       "      <th>chancecreationcrossing</th>\n",
       "      <th>chancecreationshooting</th>\n",
       "      <th>defencepressure</th>\n",
       "      <th>defenceaggression</th>\n",
       "      <th>defenceteamwidth</th>\n",
       "    </tr>\n",
       "    <tr>\n",
       "      <th>name</th>\n",
       "      <th></th>\n",
       "      <th></th>\n",
       "      <th></th>\n",
       "      <th></th>\n",
       "      <th></th>\n",
       "      <th></th>\n",
       "      <th></th>\n",
       "      <th></th>\n",
       "      <th></th>\n",
       "      <th></th>\n",
       "      <th></th>\n",
       "      <th></th>\n",
       "    </tr>\n",
       "  </thead>\n",
       "  <tbody>\n",
       "    <tr>\n",
       "      <th>Belgium Jupiler League</th>\n",
       "      <td>1115.500000</td>\n",
       "      <td>874.000000</td>\n",
       "      <td>1601.000000</td>\n",
       "      <td>47.333333</td>\n",
       "      <td>48.000000</td>\n",
       "      <td>46.166667</td>\n",
       "      <td>55.500000</td>\n",
       "      <td>60.333333</td>\n",
       "      <td>53.500000</td>\n",
       "      <td>47.166667</td>\n",
       "      <td>47.333333</td>\n",
       "      <td>49.333333</td>\n",
       "    </tr>\n",
       "    <tr>\n",
       "      <th>England Premier League</th>\n",
       "      <td>723.814614</td>\n",
       "      <td>19511.317997</td>\n",
       "      <td>8353.744249</td>\n",
       "      <td>52.637348</td>\n",
       "      <td>48.166008</td>\n",
       "      <td>48.682003</td>\n",
       "      <td>52.416779</td>\n",
       "      <td>53.802436</td>\n",
       "      <td>54.297700</td>\n",
       "      <td>46.051421</td>\n",
       "      <td>49.671177</td>\n",
       "      <td>52.684709</td>\n",
       "    </tr>\n",
       "    <tr>\n",
       "      <th>France Ligue 1</th>\n",
       "      <td>746.327820</td>\n",
       "      <td>10798.747368</td>\n",
       "      <td>9978.723308</td>\n",
       "      <td>52.577444</td>\n",
       "      <td>48.884793</td>\n",
       "      <td>48.327820</td>\n",
       "      <td>51.935338</td>\n",
       "      <td>53.966917</td>\n",
       "      <td>53.502256</td>\n",
       "      <td>45.921805</td>\n",
       "      <td>48.993985</td>\n",
       "      <td>51.672180</td>\n",
       "    </tr>\n",
       "    <tr>\n",
       "      <th>Poland Ekstraklasa</th>\n",
       "      <td>725.965517</td>\n",
       "      <td>71989.103448</td>\n",
       "      <td>2068.275862</td>\n",
       "      <td>47.724138</td>\n",
       "      <td>53.250000</td>\n",
       "      <td>48.620690</td>\n",
       "      <td>52.517241</td>\n",
       "      <td>47.896552</td>\n",
       "      <td>59.000000</td>\n",
       "      <td>49.620690</td>\n",
       "      <td>45.344828</td>\n",
       "      <td>53.137931</td>\n",
       "    </tr>\n",
       "    <tr>\n",
       "      <th>Portugal Liga ZON Sagres</th>\n",
       "      <td>341.750000</td>\n",
       "      <td>111310.375000</td>\n",
       "      <td>4118.125000</td>\n",
       "      <td>50.500000</td>\n",
       "      <td>43.000000</td>\n",
       "      <td>44.375000</td>\n",
       "      <td>46.875000</td>\n",
       "      <td>58.500000</td>\n",
       "      <td>58.375000</td>\n",
       "      <td>47.875000</td>\n",
       "      <td>53.125000</td>\n",
       "      <td>58.250000</td>\n",
       "    </tr>\n",
       "  </tbody>\n",
       "</table>\n",
       "</div>"
      ],
      "text/plain": [
       "                                   id  team_fifa_api_id  team_api_id  \\\n",
       "name                                                                   \n",
       "Belgium Jupiler League    1115.500000        874.000000  1601.000000   \n",
       "England Premier League     723.814614      19511.317997  8353.744249   \n",
       "France Ligue 1             746.327820      10798.747368  9978.723308   \n",
       "Poland Ekstraklasa         725.965517      71989.103448  2068.275862   \n",
       "Portugal Liga ZON Sagres   341.750000     111310.375000  4118.125000   \n",
       "\n",
       "                          buildupplayspeed  buildupplaydribbling  \\\n",
       "name                                                               \n",
       "Belgium Jupiler League           47.333333             48.000000   \n",
       "England Premier League           52.637348             48.166008   \n",
       "France Ligue 1                   52.577444             48.884793   \n",
       "Poland Ekstraklasa               47.724138             53.250000   \n",
       "Portugal Liga ZON Sagres         50.500000             43.000000   \n",
       "\n",
       "                          buildupplaypassing  chancecreationpassing  \\\n",
       "name                                                                  \n",
       "Belgium Jupiler League             46.166667              55.500000   \n",
       "England Premier League             48.682003              52.416779   \n",
       "France Ligue 1                     48.327820              51.935338   \n",
       "Poland Ekstraklasa                 48.620690              52.517241   \n",
       "Portugal Liga ZON Sagres           44.375000              46.875000   \n",
       "\n",
       "                          chancecreationcrossing  chancecreationshooting  \\\n",
       "name                                                                       \n",
       "Belgium Jupiler League                 60.333333               53.500000   \n",
       "England Premier League                 53.802436               54.297700   \n",
       "France Ligue 1                         53.966917               53.502256   \n",
       "Poland Ekstraklasa                     47.896552               59.000000   \n",
       "Portugal Liga ZON Sagres               58.500000               58.375000   \n",
       "\n",
       "                          defencepressure  defenceaggression  defenceteamwidth  \n",
       "name                                                                            \n",
       "Belgium Jupiler League          47.166667          47.333333         49.333333  \n",
       "England Premier League          46.051421          49.671177         52.684709  \n",
       "France Ligue 1                  45.921805          48.993985         51.672180  \n",
       "Poland Ekstraklasa              49.620690          45.344828         53.137931  \n",
       "Portugal Liga ZON Sagres        47.875000          53.125000         58.250000  "
      ]
     },
     "execution_count": 25,
     "metadata": {},
     "output_type": "execute_result"
    }
   ],
   "source": [
    "team_attrib_by_league.groupby('name').mean()"
   ]
  },
  {
   "cell_type": "code",
   "execution_count": 26,
   "metadata": {},
   "outputs": [
    {
     "data": {
      "text/plain": [
       "England Premier League      739\n",
       "France Ligue 1              665\n",
       "Poland Ekstraklasa           29\n",
       "Portugal Liga ZON Sagres      8\n",
       "Belgium Jupiler League        6\n",
       "Name: name, dtype: int64"
      ]
     },
     "execution_count": 26,
     "metadata": {},
     "output_type": "execute_result"
    }
   ],
   "source": [
    "chance_creation = team_attrib_by_league[['chancecreationshooting', 'team_api_id', 'name']]\n",
    "chance_creation['name'].value_counts()"
   ]
  },
  {
   "cell_type": "code",
   "execution_count": 27,
   "metadata": {},
   "outputs": [],
   "source": [
    "english_cross = chance_creation[chance_creation['name'].str.contains(\"England\")==True]\n",
    "french_cross = chance_creation[chance_creation['name'].str.contains(\"France\")==True]"
   ]
  },
  {
   "cell_type": "code",
   "execution_count": 28,
   "metadata": {},
   "outputs": [
    {
     "data": {
      "text/plain": [
       "665"
      ]
     },
     "execution_count": 28,
     "metadata": {},
     "output_type": "execute_result"
    }
   ],
   "source": [
    "english_cross_array = english_cross['chancecreationshooting']\n",
    "english_array = np.array(english_cross_array)\n",
    "len(english_cross_array)\n",
    "\n",
    "french_cross_array = french_cross['chancecreationshooting']\n",
    "french_array = np.array(french_cross_array)\n",
    "len(french_cross_array)"
   ]
  },
  {
   "cell_type": "code",
   "execution_count": 29,
   "metadata": {},
   "outputs": [
    {
     "data": {
      "text/plain": [
       "50"
      ]
     },
     "execution_count": 29,
     "metadata": {},
     "output_type": "execute_result"
    }
   ],
   "source": [
    "sample_means_english_cross = []\n",
    "for _ in range(50):\n",
    "    sample_mean = np.random.choice(english_cross_array,size=50).mean()\n",
    "    sample_means_english_cross.append(sample_mean)\n",
    "len(sample_means_english_cross)\n",
    "\n",
    "sample_means_french_cross= []\n",
    "for _ in range(50):\n",
    "    sample_mean = np.random.choice(french_cross_array,size=50).mean()\n",
    "    sample_means_french_cross.append(sample_mean)\n",
    "len(sample_means_french_cross)"
   ]
  },
  {
   "cell_type": "code",
   "execution_count": 30,
   "metadata": {},
   "outputs": [
    {
     "data": {
      "text/plain": [
       "2.548120717923258"
      ]
     },
     "execution_count": 30,
     "metadata": {},
     "output_type": "execute_result"
    }
   ],
   "source": [
    "t_stat = twosample_tstatistic(sample_means_english_cross, sample_means_french_cross)\n",
    "\n",
    "t_stat"
   ]
  },
  {
   "cell_type": "code",
   "execution_count": 33,
   "metadata": {},
   "outputs": [
    {
     "data": {
      "image/png": "[encoded data removed]",
      "text/plain": [
       "<Figure size 576x360 with 1 Axes>"
      ]
     },
     "metadata": {},
     "output_type": "display_data"
    }
   ],
   "source": [
    "def visualize_t(t_stat, n_control, n_experimental):\n",
    "\n",
    "    # initialize a matplotlib \"figure\"\n",
    "    fig = plt.figure(figsize=(8,5))\n",
    "    ax = fig.gca()\n",
    "    # generate points on the x axis between -4 and 4:\n",
    "    xs = np.linspace(-4, 4, 500)\n",
    "\n",
    "    # use stats.t.pdf to get values on the probability density function for the t-distribution\n",
    "    \n",
    "    ys= stats.t.pdf(xs, (n_control+n_experimental-2), 0, 1)\n",
    "    ax.plot(xs, ys, linewidth=3, color='darkred')\n",
    "\n",
    "    ax.axvline(t_stat, color='black', linestyle='--', lw=5)\n",
    "    ax.axvline(-t_stat, color='black', linestyle='--', lw=5)\n",
    "\n",
    "    plt.show()\n",
    "    return None\n",
    "\n",
    "n_control = len(sample_means_english_cross)\n",
    "n_experimental = len(sample_means_french_cross)\n",
    "visualize_t(t_stat, n_control, n_experimental)"
   ]
  },
  {
   "cell_type": "code",
   "execution_count": 34,
   "metadata": {},
   "outputs": [
    {
     "data": {
      "text/plain": [
       "Ttest_indResult(statistic=2.548120717923258, pvalue=0.012383924452850524)"
      ]
     },
     "execution_count": 34,
     "metadata": {},
     "output_type": "execute_result"
    }
   ],
   "source": [
    "stats.ttest_ind(sample_means_english_cross, sample_means_french_cross)"
   ]
  }
 ],
 "metadata": {
  "kernelspec": {
   "display_name": "Python 3",
   "language": "python",
   "name": "python3"
  },
  "language_info": {
   "codemirror_mode": {
    "name": "ipython",
    "version": 3
   },
   "file_extension": ".py",
   "mimetype": "text/x-python",
   "name": "python",
   "nbconvert_exporter": "python",
   "pygments_lexer": "ipython3",
   "version": "3.6.6"
  }
 },
 "nbformat": 4,
 "nbformat_minor": 2
}
