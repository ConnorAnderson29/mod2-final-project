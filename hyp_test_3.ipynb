{
 "cells": [
  {
   "cell_type": "code",
   "execution_count": 1,
   "metadata": {},
   "outputs": [],
   "source": [
    "import psycopg2\n",
    "import pandas as pd\n",
    "import numpy as np\n",
    "import seaborn as sns\n",
    "import scipy\n",
    "import matplotlib.pyplot as plt"
   ]
  },
  {
   "cell_type": "code",
   "execution_count": 2,
   "metadata": {},
   "outputs": [],
   "source": [
    "conn = psycopg2.connect('dbname=soccer')\n",
    "cur = conn.cursor()\n",
    "\n",
    "query = '''\n",
    "SELECT *\n",
    "FROM Country\n",
    ";'''\n",
    "\n",
    "cur.execute(query)"
   ]
  },
  {
   "cell_type": "code",
   "execution_count": 3,
   "metadata": {},
   "outputs": [
    {
     "data": {
      "text/html": [
       "<div>\n",
       "<style scoped>\n",
       "    .dataframe tbody tr th:only-of-type {\n",
       "        vertical-align: middle;\n",
       "    }\n",
       "\n",
       "    .dataframe tbody tr th {\n",
       "        vertical-align: top;\n",
       "    }\n",
       "\n",
       "    .dataframe thead th {\n",
       "        text-align: right;\n",
       "    }\n",
       "</style>\n",
       "<table border=\"1\" class=\"dataframe\">\n",
       "  <thead>\n",
       "    <tr style=\"text-align: right;\">\n",
       "      <th></th>\n",
       "      <th>id</th>\n",
       "      <th>name</th>\n",
       "    </tr>\n",
       "  </thead>\n",
       "  <tbody>\n",
       "    <tr>\n",
       "      <th>0</th>\n",
       "      <td>1</td>\n",
       "      <td>Belgium</td>\n",
       "    </tr>\n",
       "    <tr>\n",
       "      <th>1</th>\n",
       "      <td>1729</td>\n",
       "      <td>England</td>\n",
       "    </tr>\n",
       "    <tr>\n",
       "      <th>2</th>\n",
       "      <td>4769</td>\n",
       "      <td>France</td>\n",
       "    </tr>\n",
       "    <tr>\n",
       "      <th>3</th>\n",
       "      <td>7809</td>\n",
       "      <td>Germany</td>\n",
       "    </tr>\n",
       "    <tr>\n",
       "      <th>4</th>\n",
       "      <td>10257</td>\n",
       "      <td>Italy</td>\n",
       "    </tr>\n",
       "  </tbody>\n",
       "</table>\n",
       "</div>"
      ],
      "text/plain": [
       "      id     name\n",
       "0      1  Belgium\n",
       "1   1729  England\n",
       "2   4769   France\n",
       "3   7809  Germany\n",
       "4  10257    Italy"
      ]
     },
     "execution_count": 3,
     "metadata": {},
     "output_type": "execute_result"
    }
   ],
   "source": [
    "countries_data = cur.fetchall()\n",
    "countries_df = pd.DataFrame(countries_data)\n",
    "countries_df.columns = [i[0] for i in cur.description]\n",
    "countries_df.head()"
   ]
  },
  {
   "cell_type": "code",
   "execution_count": 4,
   "metadata": {},
   "outputs": [],
   "source": [
    "#Is there a statistical difference in the odds of \n",
    "#winning a game when a team is playing in front of their home crowd?"
   ]
  },
  {
   "cell_type": "code",
   "execution_count": 5,
   "metadata": {},
   "outputs": [],
   "source": [
    "#type of test?\n",
    "#likelihood of random noise?\n",
    "#how confident are we?"
   ]
  },
  {
   "cell_type": "code",
   "execution_count": 6,
   "metadata": {},
   "outputs": [
    {
     "data": {
      "text/html": [
       "<div>\n",
       "<style scoped>\n",
       "    .dataframe tbody tr th:only-of-type {\n",
       "        vertical-align: middle;\n",
       "    }\n",
       "\n",
       "    .dataframe tbody tr th {\n",
       "        vertical-align: top;\n",
       "    }\n",
       "\n",
       "    .dataframe thead th {\n",
       "        text-align: right;\n",
       "    }\n",
       "</style>\n",
       "<table border=\"1\" class=\"dataframe\">\n",
       "  <thead>\n",
       "    <tr style=\"text-align: right;\">\n",
       "      <th></th>\n",
       "      <th>id</th>\n",
       "      <th>country_id</th>\n",
       "      <th>name</th>\n",
       "    </tr>\n",
       "  </thead>\n",
       "  <tbody>\n",
       "    <tr>\n",
       "      <th>0</th>\n",
       "      <td>1</td>\n",
       "      <td>1</td>\n",
       "      <td>Belgium Jupiler League</td>\n",
       "    </tr>\n",
       "    <tr>\n",
       "      <th>1</th>\n",
       "      <td>1729</td>\n",
       "      <td>1729</td>\n",
       "      <td>England Premier League</td>\n",
       "    </tr>\n",
       "    <tr>\n",
       "      <th>2</th>\n",
       "      <td>4769</td>\n",
       "      <td>4769</td>\n",
       "      <td>France Ligue 1</td>\n",
       "    </tr>\n",
       "    <tr>\n",
       "      <th>3</th>\n",
       "      <td>7809</td>\n",
       "      <td>7809</td>\n",
       "      <td>Germany 1. Bundesliga</td>\n",
       "    </tr>\n",
       "    <tr>\n",
       "      <th>4</th>\n",
       "      <td>10257</td>\n",
       "      <td>10257</td>\n",
       "      <td>Italy Serie A</td>\n",
       "    </tr>\n",
       "  </tbody>\n",
       "</table>\n",
       "</div>"
      ],
      "text/plain": [
       "      id  country_id                    name\n",
       "0      1           1  Belgium Jupiler League\n",
       "1   1729        1729  England Premier League\n",
       "2   4769        4769          France Ligue 1\n",
       "3   7809        7809   Germany 1. Bundesliga\n",
       "4  10257       10257           Italy Serie A"
      ]
     },
     "execution_count": 6,
     "metadata": {},
     "output_type": "execute_result"
    }
   ],
   "source": [
    "conn = psycopg2.connect('dbname=soccer')\n",
    "cur = conn.cursor()\n",
    "\n",
    "query = '''\n",
    "SELECT *\n",
    "FROM League\n",
    ";'''\n",
    "\n",
    "cur.execute(query)\n",
    "\n",
    "league_data = cur.fetchall()\n",
    "league_df = pd.DataFrame(league_data)\n",
    "league_df.columns = [i[0] for i in cur.description]\n",
    "league_df.head()"
   ]
  },
  {
   "cell_type": "code",
   "execution_count": 7,
   "metadata": {},
   "outputs": [],
   "source": [
    "conn = psycopg2.connect('dbname=soccer')\n",
    "cur = conn.cursor()\n",
    "\n",
    "query = '''\n",
    "SELECT *\n",
    "FROM Match\n",
    ";'''\n",
    "\n",
    "cur.execute(query)\n",
    "\n",
    "match_data = cur.fetchall()\n",
    "match_df = pd.DataFrame(match_data)\n",
    "match_df.columns = [i[0] for i in cur.description]"
   ]
  },
  {
   "cell_type": "code",
   "execution_count": 8,
   "metadata": {},
   "outputs": [
    {
     "name": "stdout",
     "output_type": "stream",
     "text": [
      "<class 'pandas.core.frame.DataFrame'>\n",
      "RangeIndex: 25979 entries, 0 to 25978\n",
      "Columns: 115 entries, id to bsa\n",
      "dtypes: float64(66), int64(9), object(40)\n",
      "memory usage: 22.8+ MB\n"
     ]
    }
   ],
   "source": [
    "match_df.info()"
   ]
  },
  {
   "cell_type": "code",
   "execution_count": 9,
   "metadata": {},
   "outputs": [
    {
     "data": {
      "text/html": [
       "<div>\n",
       "<style scoped>\n",
       "    .dataframe tbody tr th:only-of-type {\n",
       "        vertical-align: middle;\n",
       "    }\n",
       "\n",
       "    .dataframe tbody tr th {\n",
       "        vertical-align: top;\n",
       "    }\n",
       "\n",
       "    .dataframe thead th {\n",
       "        text-align: right;\n",
       "    }\n",
       "</style>\n",
       "<table border=\"1\" class=\"dataframe\">\n",
       "  <thead>\n",
       "    <tr style=\"text-align: right;\">\n",
       "      <th></th>\n",
       "      <th>id</th>\n",
       "      <th>player_fifa_api_id</th>\n",
       "      <th>player_api_id</th>\n",
       "      <th>date</th>\n",
       "      <th>overall_rating</th>\n",
       "      <th>potential</th>\n",
       "      <th>preferred_foot</th>\n",
       "      <th>attacking_work_rate</th>\n",
       "      <th>defensive_work_rate</th>\n",
       "      <th>crossing</th>\n",
       "      <th>...</th>\n",
       "      <th>vision</th>\n",
       "      <th>penalties</th>\n",
       "      <th>marking</th>\n",
       "      <th>standing_tackle</th>\n",
       "      <th>sliding_tackle</th>\n",
       "      <th>gk_diving</th>\n",
       "      <th>gk_handling</th>\n",
       "      <th>gk_kicking</th>\n",
       "      <th>gk_positioning</th>\n",
       "      <th>gk_reflexes</th>\n",
       "    </tr>\n",
       "  </thead>\n",
       "  <tbody>\n",
       "    <tr>\n",
       "      <th>0</th>\n",
       "      <td>1</td>\n",
       "      <td>218353</td>\n",
       "      <td>505942</td>\n",
       "      <td>2016-02-18 00:00:00</td>\n",
       "      <td>67.0</td>\n",
       "      <td>71.0</td>\n",
       "      <td>right</td>\n",
       "      <td>medium</td>\n",
       "      <td>medium</td>\n",
       "      <td>49.0</td>\n",
       "      <td>...</td>\n",
       "      <td>54.0</td>\n",
       "      <td>48.0</td>\n",
       "      <td>65.0</td>\n",
       "      <td>69.0</td>\n",
       "      <td>69.0</td>\n",
       "      <td>6.0</td>\n",
       "      <td>11.0</td>\n",
       "      <td>10.0</td>\n",
       "      <td>8.0</td>\n",
       "      <td>8.0</td>\n",
       "    </tr>\n",
       "    <tr>\n",
       "      <th>1</th>\n",
       "      <td>2</td>\n",
       "      <td>218353</td>\n",
       "      <td>505942</td>\n",
       "      <td>2015-11-19 00:00:00</td>\n",
       "      <td>67.0</td>\n",
       "      <td>71.0</td>\n",
       "      <td>right</td>\n",
       "      <td>medium</td>\n",
       "      <td>medium</td>\n",
       "      <td>49.0</td>\n",
       "      <td>...</td>\n",
       "      <td>54.0</td>\n",
       "      <td>48.0</td>\n",
       "      <td>65.0</td>\n",
       "      <td>69.0</td>\n",
       "      <td>69.0</td>\n",
       "      <td>6.0</td>\n",
       "      <td>11.0</td>\n",
       "      <td>10.0</td>\n",
       "      <td>8.0</td>\n",
       "      <td>8.0</td>\n",
       "    </tr>\n",
       "    <tr>\n",
       "      <th>2</th>\n",
       "      <td>3</td>\n",
       "      <td>218353</td>\n",
       "      <td>505942</td>\n",
       "      <td>2015-09-21 00:00:00</td>\n",
       "      <td>62.0</td>\n",
       "      <td>66.0</td>\n",
       "      <td>right</td>\n",
       "      <td>medium</td>\n",
       "      <td>medium</td>\n",
       "      <td>49.0</td>\n",
       "      <td>...</td>\n",
       "      <td>54.0</td>\n",
       "      <td>48.0</td>\n",
       "      <td>65.0</td>\n",
       "      <td>66.0</td>\n",
       "      <td>69.0</td>\n",
       "      <td>6.0</td>\n",
       "      <td>11.0</td>\n",
       "      <td>10.0</td>\n",
       "      <td>8.0</td>\n",
       "      <td>8.0</td>\n",
       "    </tr>\n",
       "    <tr>\n",
       "      <th>3</th>\n",
       "      <td>4</td>\n",
       "      <td>218353</td>\n",
       "      <td>505942</td>\n",
       "      <td>2015-03-20 00:00:00</td>\n",
       "      <td>61.0</td>\n",
       "      <td>65.0</td>\n",
       "      <td>right</td>\n",
       "      <td>medium</td>\n",
       "      <td>medium</td>\n",
       "      <td>48.0</td>\n",
       "      <td>...</td>\n",
       "      <td>53.0</td>\n",
       "      <td>47.0</td>\n",
       "      <td>62.0</td>\n",
       "      <td>63.0</td>\n",
       "      <td>66.0</td>\n",
       "      <td>5.0</td>\n",
       "      <td>10.0</td>\n",
       "      <td>9.0</td>\n",
       "      <td>7.0</td>\n",
       "      <td>7.0</td>\n",
       "    </tr>\n",
       "    <tr>\n",
       "      <th>4</th>\n",
       "      <td>5</td>\n",
       "      <td>218353</td>\n",
       "      <td>505942</td>\n",
       "      <td>2007-02-22 00:00:00</td>\n",
       "      <td>61.0</td>\n",
       "      <td>65.0</td>\n",
       "      <td>right</td>\n",
       "      <td>medium</td>\n",
       "      <td>medium</td>\n",
       "      <td>48.0</td>\n",
       "      <td>...</td>\n",
       "      <td>53.0</td>\n",
       "      <td>47.0</td>\n",
       "      <td>62.0</td>\n",
       "      <td>63.0</td>\n",
       "      <td>66.0</td>\n",
       "      <td>5.0</td>\n",
       "      <td>10.0</td>\n",
       "      <td>9.0</td>\n",
       "      <td>7.0</td>\n",
       "      <td>7.0</td>\n",
       "    </tr>\n",
       "  </tbody>\n",
       "</table>\n",
       "<p>5 rows × 42 columns</p>\n",
       "</div>"
      ],
      "text/plain": [
       "   id  player_fifa_api_id  player_api_id                 date  overall_rating  \\\n",
       "0   1              218353         505942  2016-02-18 00:00:00            67.0   \n",
       "1   2              218353         505942  2015-11-19 00:00:00            67.0   \n",
       "2   3              218353         505942  2015-09-21 00:00:00            62.0   \n",
       "3   4              218353         505942  2015-03-20 00:00:00            61.0   \n",
       "4   5              218353         505942  2007-02-22 00:00:00            61.0   \n",
       "\n",
       "   potential preferred_foot attacking_work_rate defensive_work_rate  crossing  \\\n",
       "0       71.0          right              medium              medium      49.0   \n",
       "1       71.0          right              medium              medium      49.0   \n",
       "2       66.0          right              medium              medium      49.0   \n",
       "3       65.0          right              medium              medium      48.0   \n",
       "4       65.0          right              medium              medium      48.0   \n",
       "\n",
       "      ...       vision  penalties  marking  standing_tackle  sliding_tackle  \\\n",
       "0     ...         54.0       48.0     65.0             69.0            69.0   \n",
       "1     ...         54.0       48.0     65.0             69.0            69.0   \n",
       "2     ...         54.0       48.0     65.0             66.0            69.0   \n",
       "3     ...         53.0       47.0     62.0             63.0            66.0   \n",
       "4     ...         53.0       47.0     62.0             63.0            66.0   \n",
       "\n",
       "   gk_diving  gk_handling  gk_kicking  gk_positioning  gk_reflexes  \n",
       "0        6.0         11.0        10.0             8.0          8.0  \n",
       "1        6.0         11.0        10.0             8.0          8.0  \n",
       "2        6.0         11.0        10.0             8.0          8.0  \n",
       "3        5.0         10.0         9.0             7.0          7.0  \n",
       "4        5.0         10.0         9.0             7.0          7.0  \n",
       "\n",
       "[5 rows x 42 columns]"
      ]
     },
     "execution_count": 9,
     "metadata": {},
     "output_type": "execute_result"
    }
   ],
   "source": [
    "conn = psycopg2.connect('dbname=soccer')\n",
    "cur = conn.cursor()\n",
    "\n",
    "query = '''\n",
    "SELECT *\n",
    "FROM Player_Attributes\n",
    ";'''\n",
    "\n",
    "cur.execute(query)\n",
    "\n",
    "player_attrib_data = cur.fetchall()\n",
    "player_attrib_df = pd.DataFrame(player_attrib_data)\n",
    "player_attrib_df.columns = [i[0] for i in cur.description]\n",
    "player_attrib_df.head()"
   ]
  },
  {
   "cell_type": "code",
   "execution_count": 10,
   "metadata": {},
   "outputs": [
    {
     "data": {
      "text/html": [
       "<div>\n",
       "<style scoped>\n",
       "    .dataframe tbody tr th:only-of-type {\n",
       "        vertical-align: middle;\n",
       "    }\n",
       "\n",
       "    .dataframe tbody tr th {\n",
       "        vertical-align: top;\n",
       "    }\n",
       "\n",
       "    .dataframe thead th {\n",
       "        text-align: right;\n",
       "    }\n",
       "</style>\n",
       "<table border=\"1\" class=\"dataframe\">\n",
       "  <thead>\n",
       "    <tr style=\"text-align: right;\">\n",
       "      <th></th>\n",
       "      <th>id</th>\n",
       "      <th>team_api_id</th>\n",
       "      <th>team_fifa_api_id</th>\n",
       "      <th>team_long_name</th>\n",
       "      <th>team_short_name</th>\n",
       "    </tr>\n",
       "  </thead>\n",
       "  <tbody>\n",
       "    <tr>\n",
       "      <th>0</th>\n",
       "      <td>1</td>\n",
       "      <td>9987</td>\n",
       "      <td>673.0</td>\n",
       "      <td>KRC Genk</td>\n",
       "      <td>GEN</td>\n",
       "    </tr>\n",
       "    <tr>\n",
       "      <th>1</th>\n",
       "      <td>2</td>\n",
       "      <td>9993</td>\n",
       "      <td>675.0</td>\n",
       "      <td>Beerschot AC</td>\n",
       "      <td>BAC</td>\n",
       "    </tr>\n",
       "    <tr>\n",
       "      <th>2</th>\n",
       "      <td>3</td>\n",
       "      <td>10000</td>\n",
       "      <td>15005.0</td>\n",
       "      <td>SV Zulte-Waregem</td>\n",
       "      <td>ZUL</td>\n",
       "    </tr>\n",
       "    <tr>\n",
       "      <th>3</th>\n",
       "      <td>4</td>\n",
       "      <td>9994</td>\n",
       "      <td>2007.0</td>\n",
       "      <td>Sporting Lokeren</td>\n",
       "      <td>LOK</td>\n",
       "    </tr>\n",
       "    <tr>\n",
       "      <th>4</th>\n",
       "      <td>5</td>\n",
       "      <td>9984</td>\n",
       "      <td>1750.0</td>\n",
       "      <td>KSV Cercle Brugge</td>\n",
       "      <td>CEB</td>\n",
       "    </tr>\n",
       "  </tbody>\n",
       "</table>\n",
       "</div>"
      ],
      "text/plain": [
       "   id  team_api_id  team_fifa_api_id     team_long_name team_short_name\n",
       "0   1         9987             673.0           KRC Genk             GEN\n",
       "1   2         9993             675.0       Beerschot AC             BAC\n",
       "2   3        10000           15005.0   SV Zulte-Waregem             ZUL\n",
       "3   4         9994            2007.0   Sporting Lokeren             LOK\n",
       "4   5         9984            1750.0  KSV Cercle Brugge             CEB"
      ]
     },
     "execution_count": 10,
     "metadata": {},
     "output_type": "execute_result"
    }
   ],
   "source": [
    "conn = psycopg2.connect('dbname=soccer')\n",
    "cur = conn.cursor()\n",
    "\n",
    "query = '''\n",
    "SELECT *\n",
    "FROM Team\n",
    ";'''\n",
    "\n",
    "cur.execute(query)\n",
    "\n",
    "team_data = cur.fetchall()\n",
    "team_df = pd.DataFrame(team_data)\n",
    "team_df.columns = [i[0] for i in cur.description]\n",
    "team_df.head()"
   ]
  },
  {
   "cell_type": "code",
   "execution_count": 11,
   "metadata": {},
   "outputs": [
    {
     "data": {
      "text/html": [
       "<div>\n",
       "<style scoped>\n",
       "    .dataframe tbody tr th:only-of-type {\n",
       "        vertical-align: middle;\n",
       "    }\n",
       "\n",
       "    .dataframe tbody tr th {\n",
       "        vertical-align: top;\n",
       "    }\n",
       "\n",
       "    .dataframe thead th {\n",
       "        text-align: right;\n",
       "    }\n",
       "</style>\n",
       "<table border=\"1\" class=\"dataframe\">\n",
       "  <thead>\n",
       "    <tr style=\"text-align: right;\">\n",
       "      <th></th>\n",
       "      <th>id</th>\n",
       "      <th>team_fifa_api_id</th>\n",
       "      <th>team_api_id</th>\n",
       "      <th>date</th>\n",
       "      <th>buildupplayspeed</th>\n",
       "      <th>buildupplayspeedclass</th>\n",
       "      <th>buildupplaydribbling</th>\n",
       "      <th>buildupplaydribblingclass</th>\n",
       "      <th>buildupplaypassing</th>\n",
       "      <th>buildupplaypassingclass</th>\n",
       "      <th>...</th>\n",
       "      <th>chancecreationshooting</th>\n",
       "      <th>chancecreationshootingclass</th>\n",
       "      <th>chancecreationpositioningclass</th>\n",
       "      <th>defencepressure</th>\n",
       "      <th>defencepressureclass</th>\n",
       "      <th>defenceaggression</th>\n",
       "      <th>defenceaggressionclass</th>\n",
       "      <th>defenceteamwidth</th>\n",
       "      <th>defenceteamwidthclass</th>\n",
       "      <th>defencedefenderlineclass</th>\n",
       "    </tr>\n",
       "  </thead>\n",
       "  <tbody>\n",
       "    <tr>\n",
       "      <th>0</th>\n",
       "      <td>1</td>\n",
       "      <td>434</td>\n",
       "      <td>9930</td>\n",
       "      <td>2010-02-22 00:00:00</td>\n",
       "      <td>60</td>\n",
       "      <td>Balanced</td>\n",
       "      <td>NaN</td>\n",
       "      <td>Little</td>\n",
       "      <td>50</td>\n",
       "      <td>Mixed</td>\n",
       "      <td>...</td>\n",
       "      <td>55</td>\n",
       "      <td>Normal</td>\n",
       "      <td>Organised</td>\n",
       "      <td>50</td>\n",
       "      <td>Medium</td>\n",
       "      <td>55</td>\n",
       "      <td>Press</td>\n",
       "      <td>45</td>\n",
       "      <td>Normal</td>\n",
       "      <td>Cover</td>\n",
       "    </tr>\n",
       "    <tr>\n",
       "      <th>1</th>\n",
       "      <td>2</td>\n",
       "      <td>434</td>\n",
       "      <td>9930</td>\n",
       "      <td>2014-09-19 00:00:00</td>\n",
       "      <td>52</td>\n",
       "      <td>Balanced</td>\n",
       "      <td>48.0</td>\n",
       "      <td>Normal</td>\n",
       "      <td>56</td>\n",
       "      <td>Mixed</td>\n",
       "      <td>...</td>\n",
       "      <td>64</td>\n",
       "      <td>Normal</td>\n",
       "      <td>Organised</td>\n",
       "      <td>47</td>\n",
       "      <td>Medium</td>\n",
       "      <td>44</td>\n",
       "      <td>Press</td>\n",
       "      <td>54</td>\n",
       "      <td>Normal</td>\n",
       "      <td>Cover</td>\n",
       "    </tr>\n",
       "    <tr>\n",
       "      <th>2</th>\n",
       "      <td>3</td>\n",
       "      <td>434</td>\n",
       "      <td>9930</td>\n",
       "      <td>2015-09-10 00:00:00</td>\n",
       "      <td>47</td>\n",
       "      <td>Balanced</td>\n",
       "      <td>41.0</td>\n",
       "      <td>Normal</td>\n",
       "      <td>54</td>\n",
       "      <td>Mixed</td>\n",
       "      <td>...</td>\n",
       "      <td>64</td>\n",
       "      <td>Normal</td>\n",
       "      <td>Organised</td>\n",
       "      <td>47</td>\n",
       "      <td>Medium</td>\n",
       "      <td>44</td>\n",
       "      <td>Press</td>\n",
       "      <td>54</td>\n",
       "      <td>Normal</td>\n",
       "      <td>Cover</td>\n",
       "    </tr>\n",
       "    <tr>\n",
       "      <th>3</th>\n",
       "      <td>4</td>\n",
       "      <td>77</td>\n",
       "      <td>8485</td>\n",
       "      <td>2010-02-22 00:00:00</td>\n",
       "      <td>70</td>\n",
       "      <td>Fast</td>\n",
       "      <td>NaN</td>\n",
       "      <td>Little</td>\n",
       "      <td>70</td>\n",
       "      <td>Long</td>\n",
       "      <td>...</td>\n",
       "      <td>70</td>\n",
       "      <td>Lots</td>\n",
       "      <td>Organised</td>\n",
       "      <td>60</td>\n",
       "      <td>Medium</td>\n",
       "      <td>70</td>\n",
       "      <td>Double</td>\n",
       "      <td>70</td>\n",
       "      <td>Wide</td>\n",
       "      <td>Cover</td>\n",
       "    </tr>\n",
       "    <tr>\n",
       "      <th>4</th>\n",
       "      <td>5</td>\n",
       "      <td>77</td>\n",
       "      <td>8485</td>\n",
       "      <td>2011-02-22 00:00:00</td>\n",
       "      <td>47</td>\n",
       "      <td>Balanced</td>\n",
       "      <td>NaN</td>\n",
       "      <td>Little</td>\n",
       "      <td>52</td>\n",
       "      <td>Mixed</td>\n",
       "      <td>...</td>\n",
       "      <td>52</td>\n",
       "      <td>Normal</td>\n",
       "      <td>Organised</td>\n",
       "      <td>47</td>\n",
       "      <td>Medium</td>\n",
       "      <td>47</td>\n",
       "      <td>Press</td>\n",
       "      <td>52</td>\n",
       "      <td>Normal</td>\n",
       "      <td>Cover</td>\n",
       "    </tr>\n",
       "  </tbody>\n",
       "</table>\n",
       "<p>5 rows × 25 columns</p>\n",
       "</div>"
      ],
      "text/plain": [
       "   id  team_fifa_api_id  team_api_id                 date  buildupplayspeed  \\\n",
       "0   1               434         9930  2010-02-22 00:00:00                60   \n",
       "1   2               434         9930  2014-09-19 00:00:00                52   \n",
       "2   3               434         9930  2015-09-10 00:00:00                47   \n",
       "3   4                77         8485  2010-02-22 00:00:00                70   \n",
       "4   5                77         8485  2011-02-22 00:00:00                47   \n",
       "\n",
       "  buildupplayspeedclass  buildupplaydribbling buildupplaydribblingclass  \\\n",
       "0              Balanced                   NaN                    Little   \n",
       "1              Balanced                  48.0                    Normal   \n",
       "2              Balanced                  41.0                    Normal   \n",
       "3                  Fast                   NaN                    Little   \n",
       "4              Balanced                   NaN                    Little   \n",
       "\n",
       "   buildupplaypassing buildupplaypassingclass           ...             \\\n",
       "0                  50                   Mixed           ...              \n",
       "1                  56                   Mixed           ...              \n",
       "2                  54                   Mixed           ...              \n",
       "3                  70                    Long           ...              \n",
       "4                  52                   Mixed           ...              \n",
       "\n",
       "  chancecreationshooting  chancecreationshootingclass  \\\n",
       "0                     55                       Normal   \n",
       "1                     64                       Normal   \n",
       "2                     64                       Normal   \n",
       "3                     70                         Lots   \n",
       "4                     52                       Normal   \n",
       "\n",
       "  chancecreationpositioningclass  defencepressure defencepressureclass  \\\n",
       "0                      Organised               50               Medium   \n",
       "1                      Organised               47               Medium   \n",
       "2                      Organised               47               Medium   \n",
       "3                      Organised               60               Medium   \n",
       "4                      Organised               47               Medium   \n",
       "\n",
       "   defenceaggression defenceaggressionclass defenceteamwidth  \\\n",
       "0                 55                  Press               45   \n",
       "1                 44                  Press               54   \n",
       "2                 44                  Press               54   \n",
       "3                 70                 Double               70   \n",
       "4                 47                  Press               52   \n",
       "\n",
       "   defenceteamwidthclass defencedefenderlineclass  \n",
       "0                 Normal                    Cover  \n",
       "1                 Normal                    Cover  \n",
       "2                 Normal                    Cover  \n",
       "3                   Wide                    Cover  \n",
       "4                 Normal                    Cover  \n",
       "\n",
       "[5 rows x 25 columns]"
      ]
     },
     "execution_count": 11,
     "metadata": {},
     "output_type": "execute_result"
    }
   ],
   "source": [
    "conn = psycopg2.connect('dbname=soccer')\n",
    "cur = conn.cursor()\n",
    "\n",
    "query = '''\n",
    "SELECT *\n",
    "FROM Team_Attributes\n",
    ";'''\n",
    "\n",
    "cur.execute(query)\n",
    "\n",
    "team_attrib_data = cur.fetchall()\n",
    "team_attrib_df = pd.DataFrame(team_attrib_data)\n",
    "team_attrib_df.columns = [i[0] for i in cur.description]\n",
    "team_attrib_df.head()"
   ]
  },
  {
   "cell_type": "code",
   "execution_count": 12,
   "metadata": {},
   "outputs": [
    {
     "data": {
      "text/html": [
       "<div>\n",
       "<style scoped>\n",
       "    .dataframe tbody tr th:only-of-type {\n",
       "        vertical-align: middle;\n",
       "    }\n",
       "\n",
       "    .dataframe tbody tr th {\n",
       "        vertical-align: top;\n",
       "    }\n",
       "\n",
       "    .dataframe thead th {\n",
       "        text-align: right;\n",
       "    }\n",
       "</style>\n",
       "<table border=\"1\" class=\"dataframe\">\n",
       "  <thead>\n",
       "    <tr style=\"text-align: right;\">\n",
       "      <th></th>\n",
       "      <th>id</th>\n",
       "      <th>player_api_id</th>\n",
       "      <th>player_name</th>\n",
       "      <th>player_fifa_api_id</th>\n",
       "      <th>birthday</th>\n",
       "      <th>height</th>\n",
       "      <th>weight</th>\n",
       "    </tr>\n",
       "  </thead>\n",
       "  <tbody>\n",
       "    <tr>\n",
       "      <th>0</th>\n",
       "      <td>1</td>\n",
       "      <td>505942</td>\n",
       "      <td>Aaron Appindangoye</td>\n",
       "      <td>218353</td>\n",
       "      <td>1992-02-29 00:00:00</td>\n",
       "      <td>182.88</td>\n",
       "      <td>187</td>\n",
       "    </tr>\n",
       "    <tr>\n",
       "      <th>1</th>\n",
       "      <td>2</td>\n",
       "      <td>155782</td>\n",
       "      <td>Aaron Cresswell</td>\n",
       "      <td>189615</td>\n",
       "      <td>1989-12-15 00:00:00</td>\n",
       "      <td>170.18</td>\n",
       "      <td>146</td>\n",
       "    </tr>\n",
       "    <tr>\n",
       "      <th>2</th>\n",
       "      <td>3</td>\n",
       "      <td>162549</td>\n",
       "      <td>Aaron Doran</td>\n",
       "      <td>186170</td>\n",
       "      <td>1991-05-13 00:00:00</td>\n",
       "      <td>170.18</td>\n",
       "      <td>163</td>\n",
       "    </tr>\n",
       "    <tr>\n",
       "      <th>3</th>\n",
       "      <td>4</td>\n",
       "      <td>30572</td>\n",
       "      <td>Aaron Galindo</td>\n",
       "      <td>140161</td>\n",
       "      <td>1982-05-08 00:00:00</td>\n",
       "      <td>182.88</td>\n",
       "      <td>198</td>\n",
       "    </tr>\n",
       "    <tr>\n",
       "      <th>4</th>\n",
       "      <td>5</td>\n",
       "      <td>23780</td>\n",
       "      <td>Aaron Hughes</td>\n",
       "      <td>17725</td>\n",
       "      <td>1979-11-08 00:00:00</td>\n",
       "      <td>182.88</td>\n",
       "      <td>154</td>\n",
       "    </tr>\n",
       "  </tbody>\n",
       "</table>\n",
       "</div>"
      ],
      "text/plain": [
       "   id  player_api_id         player_name  player_fifa_api_id  \\\n",
       "0   1         505942  Aaron Appindangoye              218353   \n",
       "1   2         155782     Aaron Cresswell              189615   \n",
       "2   3         162549         Aaron Doran              186170   \n",
       "3   4          30572       Aaron Galindo              140161   \n",
       "4   5          23780        Aaron Hughes               17725   \n",
       "\n",
       "              birthday  height  weight  \n",
       "0  1992-02-29 00:00:00  182.88     187  \n",
       "1  1989-12-15 00:00:00  170.18     146  \n",
       "2  1991-05-13 00:00:00  170.18     163  \n",
       "3  1982-05-08 00:00:00  182.88     198  \n",
       "4  1979-11-08 00:00:00  182.88     154  "
      ]
     },
     "execution_count": 12,
     "metadata": {},
     "output_type": "execute_result"
    }
   ],
   "source": [
    "player_df = pd.read_csv('player.csv')\n",
    "player_df.head()"
   ]
  },
  {
   "cell_type": "markdown",
   "metadata": {},
   "source": [
    "### HYPOTHESIS TEST 1:\n",
    "##### Is there a statistical difference in the odds of winning a game when a team is playing in front of their home crowd?"
   ]
  },
  {
   "cell_type": "markdown",
   "metadata": {},
   "source": [
    "- H0 (Null Hypothesis): there is no statistical difference in the odds of winning a game when a team is at playing at home\n",
    "- HA (Alternative Hypothesis): there is a statistical difference in the odds of winning a game when a team is playing at home \n",
    "\n",
    "- Alpha = 0.05\n",
    "\n",
    "##### Assumptions:\n",
    "- Data is collected randomly\n",
    "- Data is independent\n",
    "- Data is approximately normally distributed"
   ]
  },
  {
   "cell_type": "code",
   "execution_count": 13,
   "metadata": {},
   "outputs": [
    {
     "name": "stderr",
     "output_type": "stream",
     "text": [
      "/Applications/anaconda3/envs/learn-env/lib/python3.6/site-packages/pandas/core/indexing.py:189: SettingWithCopyWarning: \n",
      "A value is trying to be set on a copy of a slice from a DataFrame\n",
      "\n",
      "See the caveats in the documentation: http://pandas.pydata.org/pandas-docs/stable/indexing.html#indexing-view-versus-copy\n",
      "  self._setitem_with_indexer(indexer, value)\n"
     ]
    }
   ],
   "source": [
    "#create new column home_team_win with binary values - Home team winning = 1, Tie=0.5, Away team winning = 0\n",
    "match_df['home_team_win'] = np.zeros\n",
    "\n",
    "match_df['home_team_win'].loc[match_df['home_team_goal'] > match_df['away_team_goal']] = 1\n",
    "match_df['home_team_win'].loc[match_df['home_team_goal'] < match_df['away_team_goal']] = 0\n",
    "match_df['home_team_win'].loc[match_df['home_team_goal'] == match_df['away_team_goal']] = 0"
   ]
  },
  {
   "cell_type": "code",
   "execution_count": 14,
   "metadata": {},
   "outputs": [],
   "source": [
    "match_dff = match_df.dropna()"
   ]
  },
  {
   "cell_type": "code",
   "execution_count": 15,
   "metadata": {},
   "outputs": [],
   "source": [
    "home_team_win_array = np.array(match_dff['home_team_win'])\n",
    "\n",
    "sample_means = []\n",
    "for _ in range(1000):\n",
    "    sample_mean = np.random.choice(home_team_win_array, size=1000).mean()\n",
    "    sample_means.append(sample_mean)"
   ]
  },
  {
   "cell_type": "code",
   "execution_count": 16,
   "metadata": {},
   "outputs": [
    {
     "data": {
      "text/plain": [
       "0.4557321225879682"
      ]
     },
     "execution_count": 16,
     "metadata": {},
     "output_type": "execute_result"
    }
   ],
   "source": [
    "np.mean(home_team_win_array)"
   ]
  },
  {
   "cell_type": "code",
   "execution_count": 17,
   "metadata": {},
   "outputs": [
    {
     "name": "stdout",
     "output_type": "stream",
     "text": [
      "0.4557321225879682 0.456179 0.016115106442579137 1000 999 0.00044687741203180975\n"
     ]
    }
   ],
   "source": [
    "\n",
    "\n",
    "mu = np.mean(home_team_win_array)\n",
    "x_bar = np.mean(sample_means)\n",
    "sigma = np.std(sample_means,ddof=1)\n",
    "n = len(sample_means)\n",
    "df = n-1\n",
    "diff = x_bar - mu\n",
    "\n",
    "print(mu, x_bar, sigma, n, df, diff)"
   ]
  },
  {
   "cell_type": "code",
   "execution_count": 18,
   "metadata": {},
   "outputs": [
    {
     "name": "stderr",
     "output_type": "stream",
     "text": [
      "/Applications/anaconda3/envs/learn-env/lib/python3.6/site-packages/scipy/stats/stats.py:1713: FutureWarning: Using a non-tuple sequence for multidimensional indexing is deprecated; use `arr[tuple(seq)]` instead of `arr[seq]`. In the future this will be interpreted as an array index, `arr[np.array(seq)]`, which will result either in an error or a different result.\n",
      "  return np.add.reduce(sorted[indexer] * weights, axis=axis) / sumval\n"
     ]
    },
    {
     "data": {
      "text/plain": [
       "<matplotlib.axes._subplots.AxesSubplot at 0x1a290def98>"
      ]
     },
     "execution_count": 18,
     "metadata": {},
     "output_type": "execute_result"
    },
    {
     "data": {
      "image/png": "[encoded data removed]",
      "text/plain": [
       "<Figure size 864x720 with 1 Axes>"
      ]
     },
     "metadata": {},
     "output_type": "display_data"
    }
   ],
   "source": [
    "#plot the sample dist\n",
    "sns.set(color_codes=True)\n",
    "sns.set(rc={'figure.figsize':(12,10)})\n",
    "\n",
    "sns.distplot(sample_means)"
   ]
  },
  {
   "cell_type": "code",
   "execution_count": 19,
   "metadata": {},
   "outputs": [
    {
     "data": {
      "text/plain": [
       "0.8769104082168785"
      ]
     },
     "execution_count": 19,
     "metadata": {},
     "output_type": "execute_result"
    }
   ],
   "source": [
    "t = (x_bar - mu) / (sigma/(np.sqrt(n)))\n",
    "t"
   ]
  },
  {
   "cell_type": "code",
   "execution_count": 20,
   "metadata": {},
   "outputs": [
    {
     "data": {
      "text/plain": [
       "1.646380345427535"
      ]
     },
     "execution_count": 20,
     "metadata": {},
     "output_type": "execute_result"
    }
   ],
   "source": [
    "alpha=0.05\n",
    "\n",
    "t_crit = scipy.stats.t.ppf(1-alpha, df)\n",
    "t_crit"
   ]
  },
  {
   "cell_type": "code",
   "execution_count": 21,
   "metadata": {},
   "outputs": [
    {
     "data": {
      "image/png": "[encoded data removed]",
      "text/plain": [
       "<Figure size 576x360 with 1 Axes>"
      ]
     },
     "metadata": {},
     "output_type": "display_data"
    }
   ],
   "source": [
    "# generate points on the x axis between -5 and 5:\n",
    "xs = np.linspace(-5, 5, 200)\n",
    "# use stats.t.pdf to get values on the probability density function for the t-distribution\n",
    "# the second argument is the degrees of freedom\n",
    "ys = scipy.stats.t.pdf(xs,df,0,1)\n",
    "# initialize a matplotlib \"figure\"\n",
    "fig = plt.figure(figsize=(8,5))\n",
    "\n",
    "# get the current \"axis\" out of the figure\n",
    "ax = fig.gca()\n",
    "\n",
    "# plot the lines using matplotlib's plot function:\n",
    "ax.plot(xs, ys, linewidth=3, color='darkblue')\n",
    "\n",
    "# plot a vertical line for our measured difference in rates t-statistic\n",
    "ax.axvline(t, color='red', linestyle='--', lw=5)\n",
    "plt.show()"
   ]
  },
  {
   "cell_type": "markdown",
   "metadata": {},
   "source": [
    "## Conclusion:\n",
    "### We fail to reject the null hypothesis and with 95% confidence state that there is no statistical difference in the odds of winning a game when a team is at playing at home"
   ]
  },
  {
   "cell_type": "markdown",
   "metadata": {},
   "source": [
    " ## HYPOTHESIS TEST 3\n"
   ]
  },
  {
   "cell_type": "markdown",
   "metadata": {},
   "source": [
    "- There is no statisical difference in the defensive agressiveness between English and Spanish Teams\n",
    " \n",
    "- HA: There is a difference in the defensive aggresiveness between English and Spanish Teams."
   ]
  },
  {
   "cell_type": "markdown",
   "metadata": {},
   "source": [
    "### Merging "
   ]
  },
  {
   "cell_type": "code",
   "execution_count": 22,
   "metadata": {},
   "outputs": [],
   "source": [
    "match_league_df = match_df.merge(league_df, left_on='league_id', right_on='id')"
   ]
  },
  {
   "cell_type": "code",
   "execution_count": 23,
   "metadata": {},
   "outputs": [
    {
     "data": {
      "text/plain": [
       "Spain LIGA BBVA             3040\n",
       "France Ligue 1              3040\n",
       "England Premier League      3040\n",
       "Italy Serie A               3017\n",
       "Germany 1. Bundesliga       2448\n",
       "Netherlands Eredivisie      2448\n",
       "Portugal Liga ZON Sagres    2052\n",
       "Poland Ekstraklasa          1920\n",
       "Scotland Premier League     1824\n",
       "Belgium Jupiler League      1728\n",
       "Switzerland Super League    1422\n",
       "Name: name, dtype: int64"
      ]
     },
     "execution_count": 23,
     "metadata": {},
     "output_type": "execute_result"
    }
   ],
   "source": [
    "match_league_df['name'].value_counts()"
   ]
  },
  {
   "cell_type": "code",
   "execution_count": 24,
   "metadata": {},
   "outputs": [],
   "source": [
    "match_league_team_df = match_df.merge(team_df, left_on='home_team_api_id', right_on='team_api_id')"
   ]
  },
  {
   "cell_type": "code",
   "execution_count": 25,
   "metadata": {},
   "outputs": [],
   "source": [
    "team_attrib_by_league = team_attrib_df.merge(match_league_df, left_on='team_api_id', right_on='home_team_api_id')"
   ]
  },
  {
   "cell_type": "code",
   "execution_count": 26,
   "metadata": {},
   "outputs": [],
   "source": [
    "team_attrib_by_league_home = team_attrib_df.merge(match_league_df, left_on='team_api_id', right_on='home_team_api_id')\n",
    "team_attrib_by_league_away = team_attrib_df.merge(match_league_df, left_on='team_api_id', right_on='away_team_api_id')\n"
   ]
  },
  {
   "cell_type": "code",
   "execution_count": 27,
   "metadata": {},
   "outputs": [
    {
     "data": {
      "text/html": [
       "<div>\n",
       "<style scoped>\n",
       "    .dataframe tbody tr th:only-of-type {\n",
       "        vertical-align: middle;\n",
       "    }\n",
       "\n",
       "    .dataframe tbody tr th {\n",
       "        vertical-align: top;\n",
       "    }\n",
       "\n",
       "    .dataframe thead th {\n",
       "        text-align: right;\n",
       "    }\n",
       "</style>\n",
       "<table border=\"1\" class=\"dataframe\">\n",
       "  <thead>\n",
       "    <tr style=\"text-align: right;\">\n",
       "      <th></th>\n",
       "      <th>0</th>\n",
       "      <th>1</th>\n",
       "      <th>2</th>\n",
       "      <th>3</th>\n",
       "      <th>4</th>\n",
       "      <th>5</th>\n",
       "      <th>6</th>\n",
       "      <th>7</th>\n",
       "      <th>8</th>\n",
       "      <th>9</th>\n",
       "      <th>...</th>\n",
       "      <th>142083</th>\n",
       "      <th>142084</th>\n",
       "      <th>142085</th>\n",
       "      <th>142086</th>\n",
       "      <th>142087</th>\n",
       "      <th>142088</th>\n",
       "      <th>142089</th>\n",
       "      <th>142090</th>\n",
       "      <th>142091</th>\n",
       "      <th>142092</th>\n",
       "    </tr>\n",
       "  </thead>\n",
       "  <tbody>\n",
       "    <tr>\n",
       "      <th>id</th>\n",
       "      <td>1</td>\n",
       "      <td>1</td>\n",
       "      <td>1</td>\n",
       "      <td>1</td>\n",
       "      <td>1</td>\n",
       "      <td>1</td>\n",
       "      <td>1</td>\n",
       "      <td>1</td>\n",
       "      <td>1</td>\n",
       "      <td>1</td>\n",
       "      <td>...</td>\n",
       "      <td>1458</td>\n",
       "      <td>1458</td>\n",
       "      <td>1458</td>\n",
       "      <td>1458</td>\n",
       "      <td>1458</td>\n",
       "      <td>1458</td>\n",
       "      <td>1458</td>\n",
       "      <td>1458</td>\n",
       "      <td>1458</td>\n",
       "      <td>1458</td>\n",
       "    </tr>\n",
       "    <tr>\n",
       "      <th>team_fifa_api_id</th>\n",
       "      <td>434</td>\n",
       "      <td>434</td>\n",
       "      <td>434</td>\n",
       "      <td>434</td>\n",
       "      <td>434</td>\n",
       "      <td>434</td>\n",
       "      <td>434</td>\n",
       "      <td>434</td>\n",
       "      <td>434</td>\n",
       "      <td>434</td>\n",
       "      <td>...</td>\n",
       "      <td>15005</td>\n",
       "      <td>15005</td>\n",
       "      <td>15005</td>\n",
       "      <td>15005</td>\n",
       "      <td>15005</td>\n",
       "      <td>15005</td>\n",
       "      <td>15005</td>\n",
       "      <td>15005</td>\n",
       "      <td>15005</td>\n",
       "      <td>15005</td>\n",
       "    </tr>\n",
       "    <tr>\n",
       "      <th>team_api_id</th>\n",
       "      <td>9930</td>\n",
       "      <td>9930</td>\n",
       "      <td>9930</td>\n",
       "      <td>9930</td>\n",
       "      <td>9930</td>\n",
       "      <td>9930</td>\n",
       "      <td>9930</td>\n",
       "      <td>9930</td>\n",
       "      <td>9930</td>\n",
       "      <td>9930</td>\n",
       "      <td>...</td>\n",
       "      <td>10000</td>\n",
       "      <td>10000</td>\n",
       "      <td>10000</td>\n",
       "      <td>10000</td>\n",
       "      <td>10000</td>\n",
       "      <td>10000</td>\n",
       "      <td>10000</td>\n",
       "      <td>10000</td>\n",
       "      <td>10000</td>\n",
       "      <td>10000</td>\n",
       "    </tr>\n",
       "    <tr>\n",
       "      <th>date_x</th>\n",
       "      <td>2010-02-22 00:00:00</td>\n",
       "      <td>2010-02-22 00:00:00</td>\n",
       "      <td>2010-02-22 00:00:00</td>\n",
       "      <td>2010-02-22 00:00:00</td>\n",
       "      <td>2010-02-22 00:00:00</td>\n",
       "      <td>2010-02-22 00:00:00</td>\n",
       "      <td>2010-02-22 00:00:00</td>\n",
       "      <td>2010-02-22 00:00:00</td>\n",
       "      <td>2010-02-22 00:00:00</td>\n",
       "      <td>2010-02-22 00:00:00</td>\n",
       "      <td>...</td>\n",
       "      <td>2015-09-10 00:00:00</td>\n",
       "      <td>2015-09-10 00:00:00</td>\n",
       "      <td>2015-09-10 00:00:00</td>\n",
       "      <td>2015-09-10 00:00:00</td>\n",
       "      <td>2015-09-10 00:00:00</td>\n",
       "      <td>2015-09-10 00:00:00</td>\n",
       "      <td>2015-09-10 00:00:00</td>\n",
       "      <td>2015-09-10 00:00:00</td>\n",
       "      <td>2015-09-10 00:00:00</td>\n",
       "      <td>2015-09-10 00:00:00</td>\n",
       "    </tr>\n",
       "    <tr>\n",
       "      <th>buildupplayspeed</th>\n",
       "      <td>60</td>\n",
       "      <td>60</td>\n",
       "      <td>60</td>\n",
       "      <td>60</td>\n",
       "      <td>60</td>\n",
       "      <td>60</td>\n",
       "      <td>60</td>\n",
       "      <td>60</td>\n",
       "      <td>60</td>\n",
       "      <td>60</td>\n",
       "      <td>...</td>\n",
       "      <td>54</td>\n",
       "      <td>54</td>\n",
       "      <td>54</td>\n",
       "      <td>54</td>\n",
       "      <td>54</td>\n",
       "      <td>54</td>\n",
       "      <td>54</td>\n",
       "      <td>54</td>\n",
       "      <td>54</td>\n",
       "      <td>54</td>\n",
       "    </tr>\n",
       "  </tbody>\n",
       "</table>\n",
       "<p>5 rows × 142093 columns</p>\n",
       "</div>"
      ],
      "text/plain": [
       "                               0                    1       \\\n",
       "id                                  1                    1   \n",
       "team_fifa_api_id                  434                  434   \n",
       "team_api_id                      9930                 9930   \n",
       "date_x            2010-02-22 00:00:00  2010-02-22 00:00:00   \n",
       "buildupplayspeed                   60                   60   \n",
       "\n",
       "                               2                    3       \\\n",
       "id                                  1                    1   \n",
       "team_fifa_api_id                  434                  434   \n",
       "team_api_id                      9930                 9930   \n",
       "date_x            2010-02-22 00:00:00  2010-02-22 00:00:00   \n",
       "buildupplayspeed                   60                   60   \n",
       "\n",
       "                               4                    5       \\\n",
       "id                                  1                    1   \n",
       "team_fifa_api_id                  434                  434   \n",
       "team_api_id                      9930                 9930   \n",
       "date_x            2010-02-22 00:00:00  2010-02-22 00:00:00   \n",
       "buildupplayspeed                   60                   60   \n",
       "\n",
       "                               6                    7       \\\n",
       "id                                  1                    1   \n",
       "team_fifa_api_id                  434                  434   \n",
       "team_api_id                      9930                 9930   \n",
       "date_x            2010-02-22 00:00:00  2010-02-22 00:00:00   \n",
       "buildupplayspeed                   60                   60   \n",
       "\n",
       "                               8                    9       \\\n",
       "id                                  1                    1   \n",
       "team_fifa_api_id                  434                  434   \n",
       "team_api_id                      9930                 9930   \n",
       "date_x            2010-02-22 00:00:00  2010-02-22 00:00:00   \n",
       "buildupplayspeed                   60                   60   \n",
       "\n",
       "                         ...                        142083  \\\n",
       "id                       ...                          1458   \n",
       "team_fifa_api_id         ...                         15005   \n",
       "team_api_id              ...                         10000   \n",
       "date_x                   ...           2015-09-10 00:00:00   \n",
       "buildupplayspeed         ...                            54   \n",
       "\n",
       "                               142084               142085  \\\n",
       "id                               1458                 1458   \n",
       "team_fifa_api_id                15005                15005   \n",
       "team_api_id                     10000                10000   \n",
       "date_x            2015-09-10 00:00:00  2015-09-10 00:00:00   \n",
       "buildupplayspeed                   54                   54   \n",
       "\n",
       "                               142086               142087  \\\n",
       "id                               1458                 1458   \n",
       "team_fifa_api_id                15005                15005   \n",
       "team_api_id                     10000                10000   \n",
       "date_x            2015-09-10 00:00:00  2015-09-10 00:00:00   \n",
       "buildupplayspeed                   54                   54   \n",
       "\n",
       "                               142088               142089  \\\n",
       "id                               1458                 1458   \n",
       "team_fifa_api_id                15005                15005   \n",
       "team_api_id                     10000                10000   \n",
       "date_x            2015-09-10 00:00:00  2015-09-10 00:00:00   \n",
       "buildupplayspeed                   54                   54   \n",
       "\n",
       "                               142090               142091  \\\n",
       "id                               1458                 1458   \n",
       "team_fifa_api_id                15005                15005   \n",
       "team_api_id                     10000                10000   \n",
       "date_x            2015-09-10 00:00:00  2015-09-10 00:00:00   \n",
       "buildupplayspeed                   54                   54   \n",
       "\n",
       "                               142092  \n",
       "id                               1458  \n",
       "team_fifa_api_id                15005  \n",
       "team_api_id                     10000  \n",
       "date_x            2015-09-10 00:00:00  \n",
       "buildupplayspeed                   54  \n",
       "\n",
       "[5 rows x 142093 columns]"
      ]
     },
     "execution_count": 27,
     "metadata": {},
     "output_type": "execute_result"
    }
   ],
   "source": [
    "team_attrib_by_league_home.T.head()"
   ]
  },
  {
   "cell_type": "code",
   "execution_count": 30,
   "metadata": {},
   "outputs": [
    {
     "data": {
      "text/html": [
       "<div>\n",
       "<style scoped>\n",
       "    .dataframe tbody tr th:only-of-type {\n",
       "        vertical-align: middle;\n",
       "    }\n",
       "\n",
       "    .dataframe tbody tr th {\n",
       "        vertical-align: top;\n",
       "    }\n",
       "\n",
       "    .dataframe thead th {\n",
       "        text-align: right;\n",
       "    }\n",
       "</style>\n",
       "<table border=\"1\" class=\"dataframe\">\n",
       "  <thead>\n",
       "    <tr style=\"text-align: right;\">\n",
       "      <th></th>\n",
       "      <th>defenceaggression</th>\n",
       "      <th>team_api_id</th>\n",
       "      <th>name</th>\n",
       "    </tr>\n",
       "  </thead>\n",
       "  <tbody>\n",
       "    <tr>\n",
       "      <th>0</th>\n",
       "      <td>55</td>\n",
       "      <td>9930</td>\n",
       "      <td>Switzerland Super League</td>\n",
       "    </tr>\n",
       "    <tr>\n",
       "      <th>1</th>\n",
       "      <td>55</td>\n",
       "      <td>9930</td>\n",
       "      <td>Switzerland Super League</td>\n",
       "    </tr>\n",
       "    <tr>\n",
       "      <th>2</th>\n",
       "      <td>55</td>\n",
       "      <td>9930</td>\n",
       "      <td>Switzerland Super League</td>\n",
       "    </tr>\n",
       "    <tr>\n",
       "      <th>3</th>\n",
       "      <td>55</td>\n",
       "      <td>9930</td>\n",
       "      <td>Switzerland Super League</td>\n",
       "    </tr>\n",
       "    <tr>\n",
       "      <th>4</th>\n",
       "      <td>55</td>\n",
       "      <td>9930</td>\n",
       "      <td>Switzerland Super League</td>\n",
       "    </tr>\n",
       "  </tbody>\n",
       "</table>\n",
       "</div>"
      ],
      "text/plain": [
       "   defenceaggression  team_api_id                      name\n",
       "0                 55         9930  Switzerland Super League\n",
       "1                 55         9930  Switzerland Super League\n",
       "2                 55         9930  Switzerland Super League\n",
       "3                 55         9930  Switzerland Super League\n",
       "4                 55         9930  Switzerland Super League"
      ]
     },
     "execution_count": 30,
     "metadata": {},
     "output_type": "execute_result"
    }
   ],
   "source": [
    "defense = team_attrib_by_league_home[['defenceaggression', 'team_api_id', 'name']]\n",
    "defense.head()"
   ]
  },
  {
   "cell_type": "markdown",
   "metadata": {},
   "source": [
    "### We need to slice our dataframes in order to only have information about certain leagues:"
   ]
  },
  {
   "cell_type": "code",
   "execution_count": 59,
   "metadata": {},
   "outputs": [],
   "source": [
    "#swiss_d = defense.loc[defense['defenseaggression'], 'name' == 'Switzerland Super League']\n",
    "swiss_d = defense[defense['name'].str.contains(\"Switzerland\")==True]\n",
    "belgium_d = defense[defense['name'].str.contains(\"Belgium\")==True]\n",
    "english_d = defense[defense['name'].str.contains(\"England\")==True]\n",
    "spanish_d = defense[defense['name'].str.contains(\"Spain\")==True]\n"
   ]
  },
  {
   "cell_type": "markdown",
   "metadata": {},
   "source": [
    "#### Create Numpy Arrays of Match/Defense Aggressiveness Data"
   ]
  },
  {
   "cell_type": "code",
   "execution_count": 62,
   "metadata": {},
   "outputs": [
    {
     "data": {
      "text/plain": [
       "array([55, 55, 55, ..., 34, 34, 34])"
      ]
     },
     "execution_count": 62,
     "metadata": {},
     "output_type": "execute_result"
    }
   ],
   "source": [
    "swiss_array_df = swiss_d['defenceaggression']\n",
    "swiss_array = np.array(swiss_array_df)\n",
    "swiss_array # This is an array of all of the defensive aggressiveness scores per match in the swiss league "
   ]
  },
  {
   "cell_type": "code",
   "execution_count": 63,
   "metadata": {},
   "outputs": [
    {
     "data": {
      "text/plain": [
       "array([50, 50, 50, ..., 58, 58, 58])"
      ]
     },
     "execution_count": 63,
     "metadata": {},
     "output_type": "execute_result"
    }
   ],
   "source": [
    "belgium_array_df = belgium_d['defenceaggression']\n",
    "belgium_array = np.array(belgium_array_df)\n",
    "belgium_array # This is an array of all of the defensive aggressiveness scores per match in the belgium league "
   ]
  },
  {
   "cell_type": "code",
   "execution_count": 64,
   "metadata": {},
   "outputs": [
    {
     "data": {
      "text/plain": [
       "array([40, 40, 40, ..., 48, 48, 48])"
      ]
     },
     "execution_count": 64,
     "metadata": {},
     "output_type": "execute_result"
    }
   ],
   "source": [
    "english_array_df = english_d['defenceaggression']\n",
    "english_array = np.array(english_array_df)\n",
    "english_array"
   ]
  },
  {
   "cell_type": "code",
   "execution_count": 65,
   "metadata": {},
   "outputs": [
    {
     "data": {
      "text/plain": [
       "array([65, 65, 65, ..., 43, 43, 43])"
      ]
     },
     "execution_count": 65,
     "metadata": {},
     "output_type": "execute_result"
    }
   ],
   "source": [
    "spanish_array_df = spanish_d['defenceaggression']\n",
    "spanish_array = np.array(spanish_array_df)\n",
    "spanish_array"
   ]
  },
  {
   "cell_type": "code",
   "execution_count": 66,
   "metadata": {},
   "outputs": [],
   "source": [
    "home_means = team_attrib_by_league_home.groupby('name').mean()\n",
    "away_ = team_attrib_by_league_away.groupby('name').mean()"
   ]
  },
  {
   "cell_type": "markdown",
   "metadata": {},
   "source": [
    "## Swiss vs Belgium Defensive Agressiveness"
   ]
  },
  {
   "cell_type": "code",
   "execution_count": 38,
   "metadata": {},
   "outputs": [
    {
     "name": "stderr",
     "output_type": "stream",
     "text": [
      "/Applications/anaconda3/envs/learn-env/lib/python3.6/site-packages/scipy/stats/stats.py:1713: FutureWarning: Using a non-tuple sequence for multidimensional indexing is deprecated; use `arr[tuple(seq)]` instead of `arr[seq]`. In the future this will be interpreted as an array index, `arr[np.array(seq)]`, which will result either in an error or a different result.\n",
      "  return np.add.reduce(sorted[indexer] * weights, axis=axis) / sumval\n"
     ]
    },
    {
     "data": {
      "text/plain": [
       "<matplotlib.axes._subplots.AxesSubplot at 0x1a29a6db70>"
      ]
     },
     "execution_count": 38,
     "metadata": {},
     "output_type": "execute_result"
    },
    {
     "data": {
      "image/png": "[encoded data removed]",
      "text/plain": [
       "<Figure size 864x720 with 1 Axes>"
      ]
     },
     "metadata": {},
     "output_type": "display_data"
    }
   ],
   "source": [
    "sns.set(color_codes=True)\n",
    "sns.set(rc={'figure.figsize':(12,10)})\n",
    "sns.distplot(swiss_array) # Blue distribution\n",
    "sns.distplot(belgium_array) # Green distribution"
   ]
  },
  {
   "cell_type": "code",
   "execution_count": 39,
   "metadata": {},
   "outputs": [],
   "source": [
    "a = swiss_array.mean()"
   ]
  },
  {
   "cell_type": "code",
   "execution_count": 40,
   "metadata": {},
   "outputs": [],
   "source": [
    "b = belgium_array.mean()"
   ]
  },
  {
   "cell_type": "code",
   "execution_count": 41,
   "metadata": {},
   "outputs": [
    {
     "data": {
      "text/plain": [
       "-5.629120869433102"
      ]
     },
     "execution_count": 41,
     "metadata": {},
     "output_type": "execute_result"
    }
   ],
   "source": [
    "diff_means = a-b\n",
    "diff_means"
   ]
  },
  {
   "cell_type": "code",
   "execution_count": 43,
   "metadata": {},
   "outputs": [
    {
     "data": {
      "text/plain": [
       "50"
      ]
     },
     "execution_count": 43,
     "metadata": {},
     "output_type": "execute_result"
    }
   ],
   "source": [
    "sample_means_swiss = []\n",
    "for _ in range(50):\n",
    "    sample_mean = np.random.choice(swiss_array,size=50).mean()\n",
    "    sample_means_swiss.append(sample_mean)\n",
    "len(sample_means_swiss)\n",
    "\n",
    "sample_means_belgium = []\n",
    "for _ in range(50):\n",
    "    sample_mean = np.random.choice(belgium_array,size=50).mean()\n",
    "    sample_means_belgium.append(sample_mean)\n",
    "len(sample_means_belgium)"
   ]
  },
  {
   "cell_type": "code",
   "execution_count": 57,
   "metadata": {},
   "outputs": [],
   "source": [
    "#sample_means_swiss"
   ]
  },
  {
   "cell_type": "code",
   "execution_count": 56,
   "metadata": {},
   "outputs": [],
   "source": [
    "#sample_means_belgium"
   ]
  },
  {
   "cell_type": "code",
   "execution_count": 47,
   "metadata": {},
   "outputs": [],
   "source": [
    "def variance(sample):\n",
    "    sample_mean = np.mean(sample)\n",
    "    return sum([(i - sample_mean)**2 for i in sample])"
   ]
  },
  {
   "cell_type": "code",
   "execution_count": 48,
   "metadata": {},
   "outputs": [],
   "source": [
    "def sample_variance(sample1, sample2):\n",
    "    n_1, n_2 = len(sample1), len(sample2)\n",
    "    var_1, var_2 = variance(sample1), variance(sample2)\n",
    "    return (var_1 + var_2)/((n_1 + n_2)-2)"
   ]
  },
  {
   "cell_type": "code",
   "execution_count": 49,
   "metadata": {},
   "outputs": [
    {
     "data": {
      "text/plain": [
       "-28.735745031421086"
      ]
     },
     "execution_count": 49,
     "metadata": {},
     "output_type": "execute_result"
    }
   ],
   "source": [
    "def variance(sample):\n",
    "    sample_mean = np.mean(sample)\n",
    "    return sum([(i - sample_mean)**2 for i in sample])\n",
    "\n",
    "def sample_variance(sample1, sample2):\n",
    "    n_1, n_2 = len(sample1), len(sample2)\n",
    "    var1, var2 = variance(sample1), variance(sample2)\n",
    "    return (var1 + var2) / ((n_1 + n_2) - 2)\n",
    "\n",
    "def twosample_tstatistic(expr, ctrl):\n",
    "    expr_mean, ctrl_mean = np.mean(expr), np.mean(ctrl)\n",
    "    n_e, n_c = len(expr), len(ctrl)\n",
    "    samp_var = sample_variance(expr,ctrl)\n",
    "    t = (expr_mean - ctrl_mean) / np.sqrt(samp_var * ((1/n_e)+(1/n_c)))\n",
    "    return t\n",
    "\n",
    "t_stat = twosample_tstatistic(sample_means_swiss, sample_means_belgium)\n",
    "\n",
    "t_stat"
   ]
  },
  {
   "cell_type": "code",
   "execution_count": 50,
   "metadata": {},
   "outputs": [],
   "source": [
    "import numpy as np\n",
    "from scipy import stats\n",
    "import seaborn as sns\n",
    "import matplotlib.pyplot as plt\n"
   ]
  },
  {
   "cell_type": "code",
   "execution_count": 52,
   "metadata": {},
   "outputs": [
    {
     "data": {
      "image/png": "[encoded data removed]",
      "text/plain": [
       "<Figure size 576x360 with 1 Axes>"
      ]
     },
     "metadata": {},
     "output_type": "display_data"
    }
   ],
   "source": [
    "def visualize_t(t_stat, n_control, n_experimental):\n",
    "\n",
    "    # initialize a matplotlib \"figure\"\n",
    "    fig = plt.figure(figsize=(8,5))\n",
    "    ax = fig.gca()\n",
    "    # generate points on the x axis between -4 and 4:\n",
    "    xs = np.linspace(-4, 4, 500)\n",
    "\n",
    "    # use stats.t.pdf to get values on the probability density function for the t-distribution\n",
    "    \n",
    "    ys= stats.t.pdf(xs, (n_control+n_experimental-2), 0, 1)\n",
    "    ax.plot(xs, ys, linewidth=3, color='darkred')\n",
    "\n",
    "    ax.axvline(t_stat, color='black', linestyle='--', lw=5)\n",
    "    ax.axvline(-t_stat, color='black', linestyle='--', lw=5)\n",
    "\n",
    "    plt.show()\n",
    "    return None\n",
    "\n",
    "n_control = len(sample_means_swiss)\n",
    "n_experimental = len(sample_means_belgium)\n",
    "visualize_t(t_stat, n_control, n_experimental)"
   ]
  },
  {
   "cell_type": "code",
   "execution_count": 55,
   "metadata": {
    "scrolled": true
   },
   "outputs": [
    {
     "data": {
      "text/plain": [
       "Ttest_indResult(statistic=-28.735745031421086, pvalue=1.5386087853000813e-49)"
      ]
     },
     "execution_count": 55,
     "metadata": {},
     "output_type": "execute_result"
    }
   ],
   "source": [
    "stats.ttest_ind(sample_means_swiss, sample_means_belgium)"
   ]
  },
  {
   "cell_type": "markdown",
   "metadata": {},
   "source": [
    "## England Vs Spain Defensive Aggressiveness"
   ]
  },
  {
   "cell_type": "code",
   "execution_count": 71,
   "metadata": {},
   "outputs": [
    {
     "name": "stderr",
     "output_type": "stream",
     "text": [
      "/Applications/anaconda3/envs/learn-env/lib/python3.6/site-packages/scipy/stats/stats.py:1713: FutureWarning: Using a non-tuple sequence for multidimensional indexing is deprecated; use `arr[tuple(seq)]` instead of `arr[seq]`. In the future this will be interpreted as an array index, `arr[np.array(seq)]`, which will result either in an error or a different result.\n",
      "  return np.add.reduce(sorted[indexer] * weights, axis=axis) / sumval\n"
     ]
    },
    {
     "data": {
      "text/plain": [
       "<matplotlib.axes._subplots.AxesSubplot at 0x1a4636fc88>"
      ]
     },
     "execution_count": 71,
     "metadata": {},
     "output_type": "execute_result"
    },
    {
     "data": {
      "image/png": "[encoded data removed]",
      "text/plain": [
       "<Figure size 864x720 with 1 Axes>"
      ]
     },
     "metadata": {},
     "output_type": "display_data"
    }
   ],
   "source": [
    "sns.set(color_codes=True)\n",
    "sns.set(rc={'figure.figsize':(12,10)})\n",
    "sns.distplot(english_array) # Blue distribution\n",
    "sns.distplot(spanish_array) # Green distribution"
   ]
  },
  {
   "cell_type": "code",
   "execution_count": 72,
   "metadata": {},
   "outputs": [
    {
     "data": {
      "text/plain": [
       "50"
      ]
     },
     "execution_count": 72,
     "metadata": {},
     "output_type": "execute_result"
    }
   ],
   "source": [
    "sample_means_english = []\n",
    "for _ in range(50):\n",
    "    sample_mean = np.random.choice(english_array,size=50).mean()\n",
    "    sample_means_english.append(sample_mean)\n",
    "len(sample_means_english)\n",
    "\n",
    "sample_means_spanish = []\n",
    "for _ in range(50):\n",
    "    sample_mean = np.random.choice(spanish_array,size=50).mean()\n",
    "    sample_means_spanish.append(sample_mean)\n",
    "len(sample_means_spanish)"
   ]
  },
  {
   "cell_type": "code",
   "execution_count": 74,
   "metadata": {
    "scrolled": true
   },
   "outputs": [
    {
     "data": {
      "text/plain": [
       "[49.0,\n",
       " 48.94,\n",
       " 50.62,\n",
       " 48.54,\n",
       " 45.02,\n",
       " 50.42,\n",
       " 48.62,\n",
       " 49.14,\n",
       " 48.64,\n",
       " 50.16,\n",
       " 48.3,\n",
       " 51.8,\n",
       " 47.86,\n",
       " 50.52,\n",
       " 48.72,\n",
       " 49.1,\n",
       " 49.58,\n",
       " 48.4,\n",
       " 50.18,\n",
       " 48.86,\n",
       " 50.02,\n",
       " 46.7,\n",
       " 50.66,\n",
       " 49.76,\n",
       " 48.54,\n",
       " 49.84,\n",
       " 49.62,\n",
       " 48.1,\n",
       " 48.18,\n",
       " 49.76,\n",
       " 50.54,\n",
       " 45.66,\n",
       " 51.26,\n",
       " 48.6,\n",
       " 48.8,\n",
       " 48.52,\n",
       " 48.94,\n",
       " 49.08,\n",
       " 48.08,\n",
       " 50.64,\n",
       " 49.0,\n",
       " 48.68,\n",
       " 49.32,\n",
       " 51.16,\n",
       " 51.12,\n",
       " 48.0,\n",
       " 50.18,\n",
       " 49.66,\n",
       " 48.42,\n",
       " 48.9]"
      ]
     },
     "execution_count": 74,
     "metadata": {},
     "output_type": "execute_result"
    }
   ],
   "source": [
    "sample_means_english\n",
    "sample_means_spanish"
   ]
  },
  {
   "cell_type": "code",
   "execution_count": 75,
   "metadata": {},
   "outputs": [
    {
     "data": {
      "text/plain": [
       "2.5188908490358557"
      ]
     },
     "execution_count": 75,
     "metadata": {},
     "output_type": "execute_result"
    }
   ],
   "source": [
    "t_stat = twosample_tstatistic(sample_means_english, sample_means_spanish)\n",
    "\n",
    "t_stat"
   ]
  },
  {
   "cell_type": "code",
   "execution_count": 76,
   "metadata": {},
   "outputs": [
    {
     "data": {
      "image/png": "[encoded data removed]",
      "text/plain": [
       "<Figure size 576x360 with 1 Axes>"
      ]
     },
     "metadata": {},
     "output_type": "display_data"
    }
   ],
   "source": [
    "def visualize_t(t_stat, n_control, n_experimental):\n",
    "\n",
    "    # initialize a matplotlib \"figure\"\n",
    "    fig = plt.figure(figsize=(8,5))\n",
    "    ax = fig.gca()\n",
    "    # generate points on the x axis between -4 and 4:\n",
    "    xs = np.linspace(-4, 4, 500)\n",
    "\n",
    "    # use stats.t.pdf to get values on the probability density function for the t-distribution\n",
    "    \n",
    "    ys= stats.t.pdf(xs, (n_control+n_experimental-2), 0, 1)\n",
    "    ax.plot(xs, ys, linewidth=3, color='darkred')\n",
    "\n",
    "    ax.axvline(t_stat, color='black', linestyle='--', lw=5)\n",
    "    ax.axvline(-t_stat, color='black', linestyle='--', lw=5)\n",
    "\n",
    "    plt.show()\n",
    "    return None\n",
    "\n",
    "n_control = len(sample_means_english)\n",
    "n_experimental = len(sample_means_spanish)\n",
    "visualize_t(t_stat, n_control, n_experimental)"
   ]
  },
  {
   "cell_type": "code",
   "execution_count": 77,
   "metadata": {},
   "outputs": [
    {
     "data": {
      "text/plain": [
       "Ttest_indResult(statistic=2.5188908490358553, pvalue=0.013390650158095783)"
      ]
     },
     "execution_count": 77,
     "metadata": {},
     "output_type": "execute_result"
    }
   ],
   "source": [
    "stats.ttest_ind(sample_means_english, sample_means_spanish)"
   ]
  },
  {
   "cell_type": "code",
   "execution_count": null,
   "metadata": {},
   "outputs": [],
   "source": []
  },
  {
   "cell_type": "code",
   "execution_count": null,
   "metadata": {},
   "outputs": [],
   "source": []
  },
  {
   "cell_type": "code",
   "execution_count": null,
   "metadata": {},
   "outputs": [],
   "source": []
  },
  {
   "cell_type": "code",
   "execution_count": null,
   "metadata": {},
   "outputs": [],
   "source": []
  },
  {
   "cell_type": "code",
   "execution_count": null,
   "metadata": {},
   "outputs": [],
   "source": []
  },
  {
   "cell_type": "code",
   "execution_count": null,
   "metadata": {},
   "outputs": [],
   "source": []
  }
 ],
 "metadata": {
  "kernelspec": {
   "display_name": "Python 3",
   "language": "python",
   "name": "python3"
  },
  "language_info": {
   "codemirror_mode": {
    "name": "ipython",
    "version": 3
   },
   "file_extension": ".py",
   "mimetype": "text/x-python",
   "name": "python",
   "nbconvert_exporter": "python",
   "pygments_lexer": "ipython3",
   "version": "3.6.6"
  }
 },
 "nbformat": 4,
 "nbformat_minor": 2
}
